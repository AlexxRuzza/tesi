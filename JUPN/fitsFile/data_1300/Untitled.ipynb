{
 "cells": [
  {
   "cell_type": "code",
   "execution_count": 11,
   "id": "303a8bdc",
   "metadata": {},
   "outputs": [],
   "source": [
    "import numpy as np\n",
    "import matplotlib\n",
    "import matplotlib.pyplot as plt\n",
    "%matplotlib inline\n",
    "from astropy.io import fits"
   ]
  },
  {
   "cell_type": "code",
   "execution_count": 12,
   "id": "f917ca60",
   "metadata": {},
   "outputs": [],
   "source": [
    "hdu = fits.open('RT.fits')"
   ]
  },
  {
   "cell_type": "code",
   "execution_count": 13,
   "id": "ea71bd7e",
   "metadata": {},
   "outputs": [
    {
     "name": "stdout",
     "output_type": "stream",
     "text": [
      "Filename: RT.fits\n",
      "No.    Name      Ver    Type      Cards   Dimensions   Format\n",
      "  0  PRIMARY       1 PrimaryHDU      27   (1024, 1024, 1, 1, 4)   float32   \n",
      "  1                1 ImageHDU        10   (1, 1, 1, 2)   float32   \n",
      "  2                1 ImageHDU         9   (1, 1, 1)   float32   \n"
     ]
    }
   ],
   "source": [
    "hdu.info()"
   ]
  },
  {
   "cell_type": "code",
   "execution_count": 14,
   "id": "049799bd",
   "metadata": {},
   "outputs": [
    {
     "data": {
      "text/plain": [
       "SIMPLE  =                    T / file does conform to FITS standard             \n",
       "BITPIX  =                  -32 / number of bits per data pixel                  \n",
       "NAXIS   =                    5 / number of data axes                            \n",
       "NAXIS1  =                 1024 / length of data axis 1                          \n",
       "NAXIS2  =                 1024 / length of data axis 2                          \n",
       "NAXIS3  =                    1 / length of data axis 3                          \n",
       "NAXIS4  =                    1 / length of data axis 4                          \n",
       "NAXIS5  =                    4 / length of data axis 5                          \n",
       "EXTEND  =                    T / FITS dataset may contain extensions            \n",
       "COMMENT   FITS (Flexible Image Transport System) format is defined in 'Astronomy\n",
       "COMMENT   and Astrophysics', volume 376, page 359; bibcode: 2001A&A...376..359H \n",
       "WAVE    =                1300. / wavelength [microns]                           \n",
       "CTYPE1  = 'RA---TAN'                                                            \n",
       "CRVAL1  =                   0. / RAD                                            \n",
       "CRPIX1  =                  513                                                  \n",
       "CDELT1  =        -5.118252E-07 / pixel scale x [deg]                            \n",
       "CUNIT1  = 'deg     '                                                            \n",
       "CTYPE2  = 'DEC--TAN'                                                            \n",
       "CRVAL2  =                   0. / DEC                                            \n",
       "CRPIX2  =                  513                                                  \n",
       "CDELT2  =         5.118252E-07 / pixel scale y [deg]                            \n",
       "CUNIT2  = 'deg     '                                                            \n",
       "BUNIT   = 'W.m-2.pixel-1'      / lambda.F_lambda                                \n",
       "FLUX_1  = 'I = total flux'                                                      \n",
       "FLUX_2  = 'Q       '                                                            \n",
       "FLUX_3  = 'U       '                                                            \n",
       "FLUX_4  = 'V       '                                                            "
      ]
     },
     "execution_count": 14,
     "metadata": {},
     "output_type": "execute_result"
    }
   ],
   "source": [
    "hdu[0].header"
   ]
  },
  {
   "cell_type": "code",
   "execution_count": 15,
   "id": "cfc49ca5",
   "metadata": {},
   "outputs": [
    {
     "data": {
      "text/plain": [
       "(4, 1, 1, 1024, 1024)"
      ]
     },
     "execution_count": 15,
     "metadata": {},
     "output_type": "execute_result"
    }
   ],
   "source": [
    "data = hdu[0].data\n",
    "data.shape"
   ]
  },
  {
   "cell_type": "code",
   "execution_count": 37,
   "id": "3064d43c",
   "metadata": {},
   "outputs": [
    {
     "name": "stdout",
     "output_type": "stream",
     "text": [
      "ciao\n"
     ]
    },
    {
     "data": {
      "image/png": "[encoded data removed]",
      "text/plain": [
       "<Figure size 432x288 with 2 Axes>"
      ]
     },
     "metadata": {
      "needs_background": "light"
     },
     "output_type": "display_data"
    }
   ],
   "source": [
    "from astropy.utils.data import get_pkg_data_filename\n",
    "from astropy.io import fits\n",
    "\n",
    "filename='RT.fits'\n",
    "image_file= get_pkg_data_filename(filename)\n",
    "image_data = fits.getdata(image_file, ext=0)\n",
    "data = image_data[0,0,0,:,:] \n",
    "\n",
    "ima = plt.imshow(data,origin='lower',cmap='inferno')\n",
    "plt.colorbar()"
   ]
  },
  {
   "cell_type": "code",
   "execution_count": 39,
   "id": "64fa2bcc",
   "metadata": {},
   "outputs": [
    {
     "data": {
      "text/plain": [
       "<pymcfost.parameters.Params at 0x7fd48c6e7e50>"
      ]
     },
     "execution_count": 39,
     "metadata": {},
     "output_type": "execute_result"
    },
    {
     "data": {
      "image/png": "[encoded data removed]",
      "text/plain": [
       "<Figure size 432x288 with 2 Axes>"
      ]
     },
     "metadata": {
      "needs_background": "light"
     },
     "output_type": "display_data"
    }
   ],
   "source": [
    "import pymcfost as mcfost\n",
    "mcfost.__version__\n",
    "%matplotlib inline\n",
    "import matplotlib \n",
    "from matplotlib.patches import Circle\n",
    "\n",
    "\n",
    "directory = '../'\n",
    "image =  mcfost.Image('./data_1300/')\n",
    "\n",
    "img = image.plot(i=0, bpa=159, bmaj=0.1, bmin=0.1,scale='lin',Jy=True,per_beam=True, no_ylabel=True,no_xlabel=True,plot_stars=False,limits=[0.8,-0.8,-0.8,0.8])"
   ]
  },
  {
   "cell_type": "code",
   "execution_count": 42,
   "id": "1a8d5685",
   "metadata": {},
   "outputs": [
    {
     "ename": "AttributeError",
     "evalue": "'Params' object has no attribute 'star'",
     "output_type": "error",
     "traceback": [
      "\u001b[0;31m---------------------------------------------------------------------------\u001b[0m",
      "\u001b[0;31mAttributeError\u001b[0m                            Traceback (most recent call last)",
      "\u001b[0;32m<ipython-input-42-e44f7da15daa>\u001b[0m in \u001b[0;36m<module>\u001b[0;34m\u001b[0m\n\u001b[0;32m----> 1\u001b[0;31m \u001b[0mimage\u001b[0m\u001b[0;34m.\u001b[0m\u001b[0mP\u001b[0m\u001b[0;34m.\u001b[0m\u001b[0mstar\u001b[0m\u001b[0;34m\u001b[0m\u001b[0;34m\u001b[0m\u001b[0m\n\u001b[0m",
      "\u001b[0;31mAttributeError\u001b[0m: 'Params' object has no attribute 'star'"
     ]
    }
   ],
   "source": []
  },
  {
   "cell_type": "code",
   "execution_count": 18,
   "id": "4668fb9d",
   "metadata": {},
   "outputs": [
    {
     "data": {
      "text/plain": [
       "<matplotlib.image.AxesImage at 0x7fd48c52fc10>"
      ]
     },
     "execution_count": 18,
     "metadata": {},
     "output_type": "execute_result"
    },
    {
     "data": {
      "image/png": "[encoded data removed]",
      "text/plain": [
       "<Figure size 432x288 with 1 Axes>"
      ]
     },
     "metadata": {
      "needs_background": "light"
     },
     "output_type": "display_data"
    }
   ],
   "source": [
    "plt.imshow(image.last_image, origin='lower', cmap='inferno')"
   ]
  },
  {
   "cell_type": "code",
   "execution_count": 19,
   "id": "58fbee9c",
   "metadata": {},
   "outputs": [
    {
     "data": {
      "text/plain": [
       "array([[ 1.10665808e-09,  1.15262664e-09,  1.19929132e-09, ...,\n",
       "        -1.31158974e-20, -4.36077071e-20, -7.35302166e-21],\n",
       "       [ 1.14444379e-09,  1.19198154e-09,  1.24023920e-09, ...,\n",
       "        -1.31683601e-20, -4.40759765e-20, -7.68944714e-21],\n",
       "       [ 1.18213909e-09,  1.23124225e-09,  1.28108907e-09, ...,\n",
       "        -1.31376614e-20, -4.44682438e-20, -7.94580405e-21],\n",
       "       ...,\n",
       "       [ 1.42982549e-20,  1.55835903e-20, -2.77903257e-21, ...,\n",
       "         1.26326203e-09,  1.21548379e-09,  1.16830861e-09],\n",
       "       [ 1.41953914e-20,  1.56223073e-20, -2.87204499e-21, ...,\n",
       "         1.22193141e-09,  1.17571442e-09,  1.13008042e-09],\n",
       "       [ 1.39944754e-20,  1.55493407e-20, -3.06047534e-21, ...,\n",
       "         1.18059067e-09,  1.13593551e-09,  1.09184332e-09]])"
      ]
     },
     "execution_count": 19,
     "metadata": {},
     "output_type": "execute_result"
    }
   ],
   "source": [
    "#l'array coi dati è in \n",
    "image.last_image"
   ]
  },
  {
   "cell_type": "code",
   "execution_count": 54,
   "id": "e642e5e7",
   "metadata": {},
   "outputs": [],
   "source": [
    "header = image.header\n",
    "header['NSTAR'] = (image.P.simu.n_stars, 'numero di f stelle nella sim')\n",
    "image.writeto(filename='pymcfostsaving4.fit')"
   ]
  },
  {
   "cell_type": "code",
   "execution_count": 55,
   "id": "ba7f7238",
   "metadata": {},
   "outputs": [],
   "source": [
    "im2 = fits.open('pymcfostsaving4.fit')"
   ]
  },
  {
   "cell_type": "code",
   "execution_count": 69,
   "id": "ebebbc40",
   "metadata": {},
   "outputs": [],
   "source": [
    "im2[0].header['BUNIT'] = 1, 'commento'"
   ]
  },
  {
   "cell_type": "code",
   "execution_count": 74,
   "id": "17c8cfff",
   "metadata": {},
   "outputs": [
    {
     "data": {
      "text/plain": [
       "0.0"
      ]
     },
     "execution_count": 74,
     "metadata": {},
     "output_type": "execute_result"
    }
   ],
   "source": [
    "image.P.stars[0].z"
   ]
  },
  {
   "cell_type": "code",
   "execution_count": 35,
   "id": "e0bf090d",
   "metadata": {},
   "outputs": [
    {
     "data": {
      "text/plain": [
       "<matplotlib.image.AxesImage at 0x7fd48c9a4cd0>"
      ]
     },
     "execution_count": 35,
     "metadata": {},
     "output_type": "execute_result"
    },
    {
     "data": {
      "image/png": "[encoded data removed]",
      "text/plain": [
       "<Figure size 432x288 with 1 Axes>"
      ]
     },
     "metadata": {
      "needs_background": "light"
     },
     "output_type": "display_data"
    }
   ],
   "source": [
    "plt.imshow(im2[0].data[:,::-1], cmap='inferno')"
   ]
  },
  {
   "cell_type": "code",
   "execution_count": 36,
   "id": "672d5361",
   "metadata": {},
   "outputs": [
    {
     "data": {
      "text/plain": [
       "<matplotlib.image.AxesImage at 0x7fd48c6f0880>"
      ]
     },
     "execution_count": 36,
     "metadata": {},
     "output_type": "execute_result"
    }
   ],
   "source": [
    "img"
   ]
  },
  {
   "cell_type": "code",
   "execution_count": 70,
   "id": "739f8d1d",
   "metadata": {},
   "outputs": [
    {
     "data": {
      "text/plain": [
       "SIMPLE  =                    T / conforms to FITS standard                      \n",
       "BITPIX  =                  -64 / array data type                                \n",
       "NAXIS   =                    2 / number of array dimensions                     \n",
       "NAXIS1  =                 1024                                                  \n",
       "NAXIS2  =                 1024                                                  \n",
       "COMMENT   FITS (Flexible Image Transport System) format is defined in 'Astronomy\n",
       "COMMENT   and Astrophysics', volume 376, page 359; bibcode: 2001A&A...376..359H \n",
       "WAVE    =                1300. / wavelength [microns]                           \n",
       "CTYPE1  = 'RA---TAN'                                                            \n",
       "CRVAL1  =                   0. / RAD                                            \n",
       "CRPIX1  =                  513                                                  \n",
       "CDELT1  =        -5.118252E-07 / pixel scale x [deg]                            \n",
       "CUNIT1  = 'deg     '                                                            \n",
       "CTYPE2  = 'DEC--TAN'                                                            \n",
       "CRVAL2  =                   0. / DEC                                            \n",
       "CRPIX2  =                  513                                                  \n",
       "CDELT2  =         5.118252E-07 / pixel scale y [deg]                            \n",
       "CUNIT2  = 'deg     '                                                            \n",
       "BUNIT   =                    1 / commento                                       \n",
       "FLUX_1  = 'I = total flux'                                                      \n",
       "FLUX_2  = 'Q       '                                                            \n",
       "FLUX_3  = 'U       '                                                            \n",
       "FLUX_4  = 'V       '                                                            \n",
       "STARM   =                    1 / M_sun                                          \n",
       "NSTAR   =                    1 / numero di f stelle nella sim                   "
      ]
     },
     "execution_count": 70,
     "metadata": {},
     "output_type": "execute_result"
    }
   ],
   "source": [
    "im2[0].header"
   ]
  },
  {
   "cell_type": "code",
   "execution_count": null,
   "id": "e2361e1b",
   "metadata": {},
   "outputs": [],
   "source": []
  }
 ],
 "metadata": {
  "kernelspec": {
   "display_name": "Python 3",
   "language": "python",
   "name": "python3"
  },
  "language_info": {
   "codemirror_mode": {
    "name": "ipython",
    "version": 3
   },
   "file_extension": ".py",
   "mimetype": "text/x-python",
   "name": "python",
   "nbconvert_exporter": "python",
   "pygments_lexer": "ipython3",
   "version": "3.9.5"
  }
 },
 "nbformat": 4,
 "nbformat_minor": 5
}
