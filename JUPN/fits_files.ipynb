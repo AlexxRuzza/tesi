{
 "cells": [
  {
   "cell_type": "markdown",
   "id": "3474316f",
   "metadata": {},
   "source": [
    "# Fits files"
   ]
  },
  {
   "cell_type": "code",
   "execution_count": 2,
   "id": "2124931d",
   "metadata": {},
   "outputs": [],
   "source": [
    "import numpy as np\n",
    "import matplotlib\n",
    "import matplotlib.pyplot as plt\n",
    "%matplotlib inline"
   ]
  },
  {
   "cell_type": "code",
   "execution_count": 3,
   "id": "4a09bc99",
   "metadata": {},
   "outputs": [],
   "source": [
    "from astropy.io import fits"
   ]
  },
  {
   "cell_type": "markdown",
   "id": "d7c14cb9",
   "metadata": {},
   "source": [
    "## file fits da MCFOST"
   ]
  },
  {
   "cell_type": "markdown",
   "id": "9b360683",
   "metadata": {},
   "source": [
    "File temperatura"
   ]
  },
  {
   "cell_type": "code",
   "execution_count": 4,
   "id": "b70fcdcc",
   "metadata": {},
   "outputs": [],
   "source": [
    "tmc = fits.open('../phantom/lastdisk/data_th_old/Temperature.fits')"
   ]
  },
  {
   "cell_type": "code",
   "execution_count": 5,
   "id": "5a4ae6ff",
   "metadata": {},
   "outputs": [
    {
     "name": "stdout",
     "output_type": "stream",
     "text": [
      "Filename: ../phantom/lastdisk/data_th_old/Temperature.fits\n",
      "No.    Name      Ver    Type      Cards   Dimensions   Format\n",
      "  0  PRIMARY       1 PrimaryHDU       7   (9962,)   float32   \n"
     ]
    }
   ],
   "source": [
    "tmc.info()"
   ]
  },
  {
   "cell_type": "code",
   "execution_count": 6,
   "id": "0da4dfb5",
   "metadata": {},
   "outputs": [
    {
     "data": {
      "text/plain": [
       "SIMPLE  =                    T / file does conform to FITS standard             \n",
       "BITPIX  =                  -32 / number of bits per data pixel                  \n",
       "NAXIS   =                    1 / number of data axes                            \n",
       "NAXIS1  =                 9962 / length of data axis 1                          \n",
       "EXTEND  =                    T / FITS dataset may contain extensions            \n",
       "COMMENT   FITS (Flexible Image Transport System) format is defined in 'Astronomy\n",
       "COMMENT   and Astrophysics', volume 376, page 359; bibcode: 2001A&A...376..359H "
      ]
     },
     "execution_count": 6,
     "metadata": {},
     "output_type": "execute_result"
    }
   ],
   "source": [
    "tmc_header = tmc[0].header\n",
    "tmc_header"
   ]
  },
  {
   "cell_type": "code",
   "execution_count": 7,
   "id": "9a8d008b",
   "metadata": {},
   "outputs": [
    {
     "data": {
      "text/plain": [
       "True"
      ]
     },
     "execution_count": 7,
     "metadata": {},
     "output_type": "execute_result"
    }
   ],
   "source": [
    "##ottenere informazioni nell'header\n",
    "tmc_header.get('SIMPLE')"
   ]
  },
  {
   "cell_type": "markdown",
   "id": "7cb31a7b",
   "metadata": {},
   "source": [
    "## File immagine ad una certa $\\lambda$"
   ]
  },
  {
   "cell_type": "code",
   "execution_count": 8,
   "id": "b1ada4e1",
   "metadata": {},
   "outputs": [],
   "source": [
    "disk_image = fits.open('../phantom/lastdisk/data_870/RT.fits')"
   ]
  },
  {
   "cell_type": "code",
   "execution_count": 9,
   "id": "9ab39b17",
   "metadata": {},
   "outputs": [
    {
     "name": "stdout",
     "output_type": "stream",
     "text": [
      "Filename: ../phantom/lastdisk/data_870/RT.fits\n",
      "No.    Name      Ver    Type      Cards   Dimensions   Format\n",
      "  0  PRIMARY       1 PrimaryHDU      27   (101, 101, 1, 3, 4)   float32   \n",
      "  1                1 ImageHDU        10   (2, 1, 3, 2)   float32   \n",
      "  2                1 ImageHDU         9   (2, 1, 3)   float32   \n",
      "  3                1 ImageHDU         8   (3, 2)   float32   \n"
     ]
    }
   ],
   "source": [
    "disk_image.info()"
   ]
  },
  {
   "cell_type": "code",
   "execution_count": 10,
   "id": "43aea212",
   "metadata": {
    "scrolled": false
   },
   "outputs": [
    {
     "data": {
      "text/plain": [
       "SIMPLE  =                    T / file does conform to FITS standard             \n",
       "BITPIX  =                  -32 / number of bits per data pixel                  \n",
       "NAXIS   =                    5 / number of data axes                            \n",
       "NAXIS1  =                  101 / length of data axis 1                          \n",
       "NAXIS2  =                  101 / length of data axis 2                          \n",
       "NAXIS3  =                    1 / length of data axis 3                          \n",
       "NAXIS4  =                    3 / length of data axis 4                          \n",
       "NAXIS5  =                    4 / length of data axis 5                          \n",
       "EXTEND  =                    T / FITS dataset may contain extensions            \n",
       "COMMENT   FITS (Flexible Image Transport System) format is defined in 'Astronomy\n",
       "COMMENT   and Astrophysics', volume 376, page 359; bibcode: 2001A&A...376..359H \n",
       "WAVE    =                 870. / wavelength [microns]                           \n",
       "CTYPE1  = 'RA---TAN'                                                            \n",
       "CRVAL1  =                   0. / RAD                                            \n",
       "CRPIX1  =                   51                                                  \n",
       "CDELT1  =        -1.375138E-05 / pixel scale x [deg]                            \n",
       "CUNIT1  = 'deg     '                                                            \n",
       "CTYPE2  = 'DEC--TAN'                                                            \n",
       "CRVAL2  =                   0. / DEC                                            \n",
       "CRPIX2  =                   51                                                  \n",
       "CDELT2  =         1.375138E-05 / pixel scale y [deg]                            \n",
       "CUNIT2  = 'deg     '                                                            \n",
       "BUNIT   = 'W.m-2.pixel-1'      / lambda.F_lambda                                \n",
       "FLUX_1  = 'I = total flux'                                                      \n",
       "FLUX_2  = 'Q       '                                                            \n",
       "FLUX_3  = 'U       '                                                            \n",
       "FLUX_4  = 'V       '                                                            "
      ]
     },
     "execution_count": 10,
     "metadata": {},
     "output_type": "execute_result"
    }
   ],
   "source": [
    "#contenuto degli header\n",
    "disk_image[0].header"
   ]
  },
  {
   "cell_type": "code",
   "execution_count": 11,
   "id": "8bd59610",
   "metadata": {
    "scrolled": true
   },
   "outputs": [
    {
     "data": {
      "text/plain": [
       "XTENSION= 'IMAGE   '           / IMAGE extension                                \n",
       "BITPIX  =                  -32 / number of bits per data pixel                  \n",
       "NAXIS   =                    4 / number of data axes                            \n",
       "NAXIS1  =                    2 / length of data axis 1                          \n",
       "NAXIS2  =                    1 / length of data axis 2                          \n",
       "NAXIS3  =                    3 / length of data axis 3                          \n",
       "NAXIS4  =                    2 / length of data axis 4                          \n",
       "PCOUNT  =                    0 / required keyword; must = 0                     \n",
       "GCOUNT  =                    1 / required keyword; must = 1                     \n",
       "UNIT    = 'arcsec  '                                                            "
      ]
     },
     "execution_count": 11,
     "metadata": {},
     "output_type": "execute_result"
    }
   ],
   "source": [
    "disk_image[1].header"
   ]
  },
  {
   "cell_type": "code",
   "execution_count": 12,
   "id": "acf1a78a",
   "metadata": {},
   "outputs": [
    {
     "data": {
      "text/plain": [
       "XTENSION= 'IMAGE   '           / IMAGE extension                                \n",
       "BITPIX  =                  -32 / number of bits per data pixel                  \n",
       "NAXIS   =                    3 / number of data axes                            \n",
       "NAXIS1  =                    2 / length of data axis 1                          \n",
       "NAXIS2  =                    1 / length of data axis 2                          \n",
       "NAXIS3  =                    3 / length of data axis 3                          \n",
       "PCOUNT  =                    0 / required keyword; must = 0                     \n",
       "GCOUNT  =                    1 / required keyword; must = 1                     \n",
       "UNIT    = 'm/s     '                                                            "
      ]
     },
     "execution_count": 12,
     "metadata": {},
     "output_type": "execute_result"
    }
   ],
   "source": [
    "disk_image[2].header"
   ]
  },
  {
   "cell_type": "code",
   "execution_count": 13,
   "id": "6a8b3f42",
   "metadata": {},
   "outputs": [
    {
     "data": {
      "text/plain": [
       "XTENSION= 'IMAGE   '           / IMAGE extension                                \n",
       "BITPIX  =                  -32 / number of bits per data pixel                  \n",
       "NAXIS   =                    2 / number of data axes                            \n",
       "NAXIS1  =                    3 / length of data axis 1                          \n",
       "NAXIS2  =                    2 / length of data axis 2                          \n",
       "PCOUNT  =                    0 / required keyword; must = 0                     \n",
       "GCOUNT  =                    1 / required keyword; must = 1                     \n",
       "UNIT    = 'Msun, K, Rsun'                                                       "
      ]
     },
     "execution_count": 13,
     "metadata": {},
     "output_type": "execute_result"
    }
   ],
   "source": [
    "disk_image[3].header"
   ]
  },
  {
   "cell_type": "code",
   "execution_count": 22,
   "id": "407582fb",
   "metadata": {
    "scrolled": true
   },
   "outputs": [
    {
     "data": {
      "text/plain": [
       "<matplotlib.colorbar.Colorbar at 0x7fc3813ccfa0>"
      ]
     },
     "execution_count": 22,
     "metadata": {},
     "output_type": "execute_result"
    },
    {
     "data": {
      "image/png": "[encoded data removed]",
      "text/plain": [
       "<Figure size 432x288 with 2 Axes>"
      ]
     },
     "metadata": {
      "needs_background": "light"
     },
     "output_type": "display_data"
    }
   ],
   "source": [
    "datad = disk_image[0].data\n",
    "plt.imshow(datad[0,0,0,:,:])\n",
    "plt.colorbar()"
   ]
  },
  {
   "cell_type": "code",
   "execution_count": null,
   "id": "ecd6a16b",
   "metadata": {},
   "outputs": [],
   "source": []
  },
  {
   "cell_type": "code",
   "execution_count": null,
   "id": "d87b03fc",
   "metadata": {},
   "outputs": [],
   "source": []
  }
 ],
 "metadata": {
  "kernelspec": {
   "display_name": "Python 3",
   "language": "python",
   "name": "python3"
  },
  "language_info": {
   "codemirror_mode": {
    "name": "ipython",
    "version": 3
   },
   "file_extension": ".py",
   "mimetype": "text/x-python",
   "name": "python",
   "nbconvert_exporter": "python",
   "pygments_lexer": "ipython3",
   "version": "3.9.5"
  }
 },
 "nbformat": 4,
 "nbformat_minor": 5
}
