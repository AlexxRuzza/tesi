{
 "cells": [
  {
   "cell_type": "code",
   "execution_count": 34,
   "id": "6896187c",
   "metadata": {},
   "outputs": [],
   "source": [
    "import numpy as np\n",
    "import matplotlib\n",
    "import matplotlib.pyplot as plt\n",
    "from astropy.io import fits\n",
    "import pymcfost as mcfost\n",
    "mcfost.__version__\n",
    "#%matplotlib inline\n",
    "\n",
    "#p_dirin -> directory with mcfost files .para e RT.fits.gz\n",
    "#sim_para -> dict with parameters that need to be added to the header\n",
    "#function that generates the post pymcfost image with added information in the header\n",
    "def generateImage(p_dirin,\n",
    "                  p_bmaj,\n",
    "                  p_bmin,\n",
    "                  p_bpa = 0,\n",
    "                  p_dirout='./',\n",
    "                  fileout='ris2.fits',\n",
    "                  p_Jy=True,\n",
    "                  p_perbeam=True,\n",
    "                  p_i=0,\n",
    "                  sim_para={}\n",
    "                 ):\n",
    "    \n",
    "    image = mcfost.Image(p_dirin)\n",
    "    pltimage = image.plot(i=p_i, bpa=p_bpa, bmaj=p_bmaj, bmin=p_bmin,scale='lin',Jy=p_Jy, per_beam=p_perbeam, no_ylabel=True,no_xlabel=True,plot_stars=False,limits=[0.8,-0.8,-0.8,0.8])\n",
    "    header = image.header\n",
    "    \n",
    "    #manually updating header.BUNIT\n",
    "    bunit_1 = 'W.m-2'\n",
    "    bunit_2 = '.pixel-1'\n",
    "    if p_Jy:\n",
    "        bunit_1 = 'Jy'\n",
    "    if p_perbeam:\n",
    "        bunit_2 = '.beam-1'\n",
    "    header['BUNIT'] = bunit_1 + bunit_2\n",
    "    \n",
    "    #adding simulation parameters to the header\n",
    "    \n",
    "    #star properties\n",
    "    nstars = image.P.simu.n_stars\n",
    "    header['NSTARS'] = nstars\n",
    "    for i in range(0, nstars):\n",
    "        header['TSTAR' + str(i)] = image.P.stars[i].Teff, 'K'\n",
    "        header['MSTAR' + str(i)] = image.P.stars[i].M, 'M_sun'\n",
    "        header['RSTAR' + str(i)] = image.P.stars[i].R, 'R_sun'\n",
    "        \n",
    "    #beam informations\n",
    "    header['BMAJ'] = p_bmaj\n",
    "    header['BMIN'] = p_bmin\n",
    "    header['BPA'] = p_bpa, 'deg'\n",
    "    \n",
    "    #adding info in sim_para dict\n",
    "    for key in sim_para:\n",
    "        header[key] = sim_para[key]\n",
    "        \n",
    "    #inclination and position angle\n",
    "    header['DISKPA'] = image.P.map.PA, 'deg'\n",
    "    header['IMIN'] = image.P.map.RT_imin, 'deg'\n",
    "    header['IMAX'] = image.P.map.RT_imax, 'deg'\n",
    "    header['NI'] = image.P.map.RT_ntheta\n",
    "    header['IUSED'] = p_i\n",
    "    \n",
    "    #distance\n",
    "    header['DISTANCE'] = image.P.map.distance, 'pc'\n",
    "    \n",
    "    #saving fits file\n",
    "    image.writeto(filename=p_dirout+'/' + fileout)\n",
    "    "
   ]
  },
  {
   "cell_type": "code",
   "execution_count": 35,
   "id": "ce6080df",
   "metadata": {},
   "outputs": [],
   "source": [
    "#function that extracts informations from image.log file\n",
    "def get_imagelog_info(sim_para, p_dir):\n",
    "    logf = open(p_dir+'/image.log')\n",
    "    data = logf.read()\n",
    "    \n",
    "    #read gass mass and dust mass\n",
    "    i_mg = data.find('gas mass')\n",
    "    str_mg = data[i_mg:i_mg+data[i_mg:].find('\\n')].split(' ')\n",
    "    sim_para['MGAS']  = (float(str_mg[-2]), str_mg[-1])\n",
    "    if str_mg[-1]!='Msun' :\n",
    "        print('Error: gas mass not in M_sun units')\n",
    "    i_md = data.find('dust mass')\n",
    "    str_md = data[i_md:i_md+data[i_md:].find('\\n')].split(' ')\n",
    "    sim_para['MDUST']  = (float(str_md[-2]), str_md[-1])\n",
    "    if str_md[-1]!='Msun' :\n",
    "        print('Error: dust mass not in M_sun units')\n",
    "        \n",
    "    #read planet mass and orbital radius\n",
    "    i_sink = []\n",
    "    i_sink.append(data.find('Sink'))\n",
    "    i_sink.append(i_sink[-1] + data[i_sink[-1]+1:].find('Sink'))\n",
    "    while i_sink[-1]-i_sink[-2]!= 0:\n",
    "        i_sink.append(i_sink[-1] + 1+ data[i_sink[-1]+1:].find('Sink'))\n",
    "    i_sink.pop(-1)\n",
    "    i_sink.pop(0)\n",
    "    i_sink.append(i_sink[-1]+200)\n",
    "    str_sink = [data[i_sink[i]:i_sink[i+1]] for i in range(0, len(i_sink)-1)]\n",
    "\n",
    "    sink_index = 0\n",
    "    for info in str_sink:\n",
    "        if info.find('distance') > 0:\n",
    "            info = \" \".join(info.split())\n",
    "            i_m = info.find('M')\n",
    "            str_m = info[i_m:i_m+1+info[i_m+1:].find('M')+2]\n",
    "            sim_para['MPLANET'+str(sink_index)] = float(str_m.split('=')[-1].split(' ')[-2]), str_m.split('=')[-1].split(' ')[-1]\n",
    "            i_r = info.find('distance')\n",
    "            str_r = info[i_r:i_r+1+info[i_r+1:].find('au')+2]\n",
    "            sim_para['RORBP'+str(sink_index)] = float(str_r.split('=')[-1].split(' ')[-2]), str_r.split('=')[-1].split(' ')[-1]\n",
    "            sink_index+=1\n",
    "    sim_para['NPLANETS'] = sink_index"
   ]
  },
  {
   "cell_type": "code",
   "execution_count": 40,
   "id": "0dbbfdc5",
   "metadata": {},
   "outputs": [],
   "source": [
    "import os\n",
    "import re\n",
    "def read_dir_structure(parent_dir='./', beam_dims=[0.1]):\n",
    "    \n",
    "    #setting global parameters\n",
    "    sim_para = {}\n",
    "    current_dir = parent_dir\n",
    "    key = 0\n",
    "    out_dir = parent_dir + 'processed_fits/'\n",
    "    \n",
    "    #getting dir content\n",
    "    dir_cont = os.listdir(parent_dir)\n",
    "    \n",
    "    #creating dir for the fits file that will be produced\n",
    "    if 'processed_fits' not in dir_cont:\n",
    "        os.mkdir(parent_dir + 'processed_fits')\n",
    "        out_dir = parent_dir + 'processed_fits/'\n",
    "    \n",
    "    #cleaning dir content\n",
    "    dir_mod = re.compile(\"^MP[0-9]+_time[0-9]+$\")\n",
    "    subdirs1 = [sd for sd in dir_cont if dir_mod.match(sd)]\n",
    "    \n",
    "    #cicle for /MP#_time#/ \n",
    "    for sub_dir1 in subdirs1:\n",
    "        \n",
    "        #getting time of simulation\n",
    "        sim_para['TIME'] = int(sub_dir1.split('time')[-1]), 'planet orbits'\n",
    "        \n",
    "        #getting subdirs with the correct format\n",
    "        dir_cont2 = os.listdir(parent_dir+sub_dir1)\n",
    "        dir_mod2 = re.compile(\"^gd[0-9]+$\")\n",
    "        subdirs2 = [sd for sd in dir_cont2 if dir_mod2.match(sd)]\n",
    "        \n",
    "        #cicle for /MP#_time#/gd#/\n",
    "        for sub_dir2 in subdirs2:\n",
    "            \n",
    "            #from now on using sim_para_upd to avoid\n",
    "            #having to delete info that are not overrided\n",
    "            sim_para_upd = sim_para \n",
    "            \n",
    "            #this directory contains image.log and data_### dirs\n",
    "            #updating sim_para with info contained in image.log\n",
    "            get_imagelog_info(sim_para=sim_para_upd, p_dir=parent_dir+sub_dir1+'/'+sub_dir2)\n",
    "            \n",
    "            #searching for data_### dirs\n",
    "            #getting subdirs\n",
    "            dir_cont3 = os.listdir(parent_dir+sub_dir1+'/'+sub_dir2)\n",
    "            dir_mod3 = re.compile(\"^data_[0-9]+$\")\n",
    "            subdirs3 = [sd for sd in dir_cont3 if dir_mod3.match(sd)]\n",
    "            \n",
    "            #cicle for /MP#_time#/gd#/data_#\n",
    "            for sub_dir3 in subdirs3:\n",
    "                \n",
    "                current_dir = parent_dir + sub_dir1 + '/' + sub_dir2 + '/' + sub_dir3 + '/'\n",
    "                \n",
    "                for beam_dim in beam_dims:\n",
    "                    \n",
    "                    #generate file name\n",
    "                    key_str = str(key).zfill(5)\n",
    "                    wave_str = sub_dir3.split('data_')[-1]\n",
    "                    out_filename = key_str + sub_dir1 + sub_dir2 + 'W' + wave_str + 'B' + str(beam_dim).split('.')[-1] + '.fits'\n",
    "                    \n",
    "                    generateImage(current_dir, p_bmaj=beam_dim, p_bmin=beam_dim, p_dirout=out_dir, fileout=out_filename, sim_para=sim_para_upd)\n",
    "                    key+=1"
   ]
  },
  {
   "cell_type": "code",
   "execution_count": 41,
   "id": "6891129f",
   "metadata": {
    "scrolled": false
   },
   "outputs": [
    {
     "data": {
      "image/png": "[encoded data removed]",
      "text/plain": [
       "<Figure size 432x288 with 7 Axes>"
      ]
     },
     "metadata": {
      "needs_background": "light"
     },
     "output_type": "display_data"
    }
   ],
   "source": [
    "parent_dir='../simulazioni/'\n",
    "read_dir_structure(parent_dir=parent_dir)"
   ]
  },
  {
   "cell_type": "markdown",
   "id": "01112edd",
   "metadata": {},
   "source": [
    "TODOs:\n",
    "\n",
    "    - add some output \n",
    "    - find a way to not plot images inline\n",
    "    - if processed_fits dir already exist restart from last key\n",
    "    - add a way to skip already processed data\n",
    "    \n",
    "    - study possible values for beam_size\n",
    "    - update doc\n",
    "    - add info on T and opacity\n",
    "    \n",
    "    - improve get_imagelog_info() with the use of re"
   ]
  },
  {
   "cell_type": "code",
   "execution_count": 287,
   "id": "2f44b249",
   "metadata": {},
   "outputs": [
    {
     "ename": "OSError",
     "evalue": "File 'fit7.fits' already exists.",
     "output_type": "error",
     "traceback": [
      "\u001b[0;31m---------------------------------------------------------------------------\u001b[0m",
      "\u001b[0;31mOSError\u001b[0m                                   Traceback (most recent call last)",
      "\u001b[0;32m<ipython-input-287-1c4499c48345>\u001b[0m in \u001b[0;36m<module>\u001b[0;34m\u001b[0m\n\u001b[1;32m      3\u001b[0m \u001b[0msim_para\u001b[0m \u001b[0;34m=\u001b[0m \u001b[0;34m{\u001b[0m\u001b[0;34m}\u001b[0m\u001b[0;34m\u001b[0m\u001b[0;34m\u001b[0m\u001b[0m\n\u001b[1;32m      4\u001b[0m \u001b[0mget_imagelog_info\u001b[0m\u001b[0;34m(\u001b[0m\u001b[0msim_para\u001b[0m\u001b[0;34m,\u001b[0m \u001b[0mp_dir\u001b[0m\u001b[0;34m)\u001b[0m\u001b[0;34m\u001b[0m\u001b[0;34m\u001b[0m\u001b[0m\n\u001b[0;32m----> 5\u001b[0;31m \u001b[0mprocessimage\u001b[0m\u001b[0;34m(\u001b[0m\u001b[0mp_dirin\u001b[0m\u001b[0;34m=\u001b[0m\u001b[0mp_dir\u001b[0m\u001b[0;34m+\u001b[0m\u001b[0;34m'/data_1300/data_1300/'\u001b[0m\u001b[0;34m,\u001b[0m \u001b[0mp_dirout\u001b[0m\u001b[0;34m=\u001b[0m\u001b[0;34m'./'\u001b[0m\u001b[0;34m,\u001b[0m \u001b[0mfileout\u001b[0m\u001b[0;34m=\u001b[0m\u001b[0;34m'fit7.fits'\u001b[0m\u001b[0;34m,\u001b[0m \u001b[0mp_bpa\u001b[0m\u001b[0;34m=\u001b[0m\u001b[0;36m0\u001b[0m\u001b[0;34m,\u001b[0m \u001b[0mp_bmaj\u001b[0m\u001b[0;34m=\u001b[0m\u001b[0;36m0.1\u001b[0m\u001b[0;34m,\u001b[0m \u001b[0mp_bmin\u001b[0m\u001b[0;34m=\u001b[0m\u001b[0;36m0.1\u001b[0m\u001b[0;34m,\u001b[0m \u001b[0mp_Jy\u001b[0m\u001b[0;34m=\u001b[0m\u001b[0;32mFalse\u001b[0m\u001b[0;34m,\u001b[0m \u001b[0mp_perbeam\u001b[0m\u001b[0;34m=\u001b[0m\u001b[0;32mFalse\u001b[0m\u001b[0;34m,\u001b[0m \u001b[0mp_i\u001b[0m\u001b[0;34m=\u001b[0m\u001b[0;36m0\u001b[0m\u001b[0;34m,\u001b[0m \u001b[0msim_para\u001b[0m\u001b[0;34m=\u001b[0m\u001b[0msim_para\u001b[0m\u001b[0;34m)\u001b[0m\u001b[0;34m\u001b[0m\u001b[0;34m\u001b[0m\u001b[0m\n\u001b[0m",
      "\u001b[0;32m<ipython-input-216-0b96f41a9ccb>\u001b[0m in \u001b[0;36mprocessimage\u001b[0;34m(p_dirin, p_bpa, p_bmaj, p_bmin, p_dirout, fileout, p_Jy, p_perbeam, p_i, sim_para)\u001b[0m\n\u001b[1;32m     53\u001b[0m \u001b[0;34m\u001b[0m\u001b[0m\n\u001b[1;32m     54\u001b[0m     \u001b[0;31m#saving fits file\u001b[0m\u001b[0;34m\u001b[0m\u001b[0;34m\u001b[0m\u001b[0;34m\u001b[0m\u001b[0m\n\u001b[0;32m---> 55\u001b[0;31m     \u001b[0mimage\u001b[0m\u001b[0;34m.\u001b[0m\u001b[0mwriteto\u001b[0m\u001b[0;34m(\u001b[0m\u001b[0mfilename\u001b[0m\u001b[0;34m=\u001b[0m\u001b[0mp_dirout\u001b[0m\u001b[0;34m+\u001b[0m\u001b[0;34m'/'\u001b[0m \u001b[0;34m+\u001b[0m \u001b[0mfileout\u001b[0m\u001b[0;34m)\u001b[0m\u001b[0;34m\u001b[0m\u001b[0;34m\u001b[0m\u001b[0m\n\u001b[0m\u001b[1;32m     56\u001b[0m \u001b[0;34m\u001b[0m\u001b[0m\n",
      "\u001b[0;32m/usr/lib/python3.9/site-packages/pymcfost-0.0.0-py3.9.egg/pymcfost/image.py\u001b[0m in \u001b[0;36mwriteto\u001b[0;34m(self, filename, **kwargs)\u001b[0m\n\u001b[1;32m    608\u001b[0m \u001b[0;34m\u001b[0m\u001b[0m\n\u001b[1;32m    609\u001b[0m     \u001b[0;32mdef\u001b[0m \u001b[0mwriteto\u001b[0m\u001b[0;34m(\u001b[0m\u001b[0mself\u001b[0m\u001b[0;34m,\u001b[0m \u001b[0mfilename\u001b[0m\u001b[0;34m,\u001b[0m \u001b[0;34m**\u001b[0m\u001b[0mkwargs\u001b[0m\u001b[0;34m)\u001b[0m\u001b[0;34m:\u001b[0m\u001b[0;34m\u001b[0m\u001b[0;34m\u001b[0m\u001b[0m\n\u001b[0;32m--> 610\u001b[0;31m         \u001b[0mfits\u001b[0m\u001b[0;34m.\u001b[0m\u001b[0mwriteto\u001b[0m\u001b[0;34m(\u001b[0m\u001b[0mos\u001b[0m\u001b[0;34m.\u001b[0m\u001b[0mpath\u001b[0m\u001b[0;34m.\u001b[0m\u001b[0mnormpath\u001b[0m\u001b[0;34m(\u001b[0m\u001b[0mos\u001b[0m\u001b[0;34m.\u001b[0m\u001b[0mpath\u001b[0m\u001b[0;34m.\u001b[0m\u001b[0mexpanduser\u001b[0m\u001b[0;34m(\u001b[0m\u001b[0mfilename\u001b[0m\u001b[0;34m)\u001b[0m\u001b[0;34m)\u001b[0m\u001b[0;34m,\u001b[0m\u001b[0mself\u001b[0m\u001b[0;34m.\u001b[0m\u001b[0mlast_image\u001b[0m\u001b[0;34m,\u001b[0m \u001b[0mself\u001b[0m\u001b[0;34m.\u001b[0m\u001b[0mheader\u001b[0m\u001b[0;34m,\u001b[0m \u001b[0;34m**\u001b[0m\u001b[0mkwargs\u001b[0m\u001b[0;34m)\u001b[0m\u001b[0;34m\u001b[0m\u001b[0;34m\u001b[0m\u001b[0m\n\u001b[0m\u001b[1;32m    611\u001b[0m \u001b[0;34m\u001b[0m\u001b[0m\n\u001b[1;32m    612\u001b[0m \u001b[0;32mdef\u001b[0m \u001b[0mspectral_index\u001b[0m\u001b[0;34m(\u001b[0m\u001b[0mmodel1\u001b[0m\u001b[0;34m,\u001b[0m \u001b[0mmodel2\u001b[0m\u001b[0;34m,\u001b[0m \u001b[0mi\u001b[0m\u001b[0;34m=\u001b[0m\u001b[0;36m0\u001b[0m\u001b[0;34m,\u001b[0m \u001b[0miaz\u001b[0m\u001b[0;34m=\u001b[0m\u001b[0;36m0\u001b[0m\u001b[0;34m)\u001b[0m\u001b[0;34m:\u001b[0m\u001b[0;34m\u001b[0m\u001b[0;34m\u001b[0m\u001b[0m\n",
      "\u001b[0;32m~/.local/lib/python3.9/site-packages/astropy/utils/decorators.py\u001b[0m in \u001b[0;36mwrapper\u001b[0;34m(*args, **kwargs)\u001b[0m\n\u001b[1;32m    533\u001b[0m                     \u001b[0mwarnings\u001b[0m\u001b[0;34m.\u001b[0m\u001b[0mwarn\u001b[0m\u001b[0;34m(\u001b[0m\u001b[0mmessage\u001b[0m\u001b[0;34m,\u001b[0m \u001b[0mwarning_type\u001b[0m\u001b[0;34m,\u001b[0m \u001b[0mstacklevel\u001b[0m\u001b[0;34m=\u001b[0m\u001b[0;36m2\u001b[0m\u001b[0;34m)\u001b[0m\u001b[0;34m\u001b[0m\u001b[0;34m\u001b[0m\u001b[0m\n\u001b[1;32m    534\u001b[0m \u001b[0;34m\u001b[0m\u001b[0m\n\u001b[0;32m--> 535\u001b[0;31m             \u001b[0;32mreturn\u001b[0m \u001b[0mfunction\u001b[0m\u001b[0;34m(\u001b[0m\u001b[0;34m*\u001b[0m\u001b[0margs\u001b[0m\u001b[0;34m,\u001b[0m \u001b[0;34m**\u001b[0m\u001b[0mkwargs\u001b[0m\u001b[0;34m)\u001b[0m\u001b[0;34m\u001b[0m\u001b[0;34m\u001b[0m\u001b[0m\n\u001b[0m\u001b[1;32m    536\u001b[0m \u001b[0;34m\u001b[0m\u001b[0m\n\u001b[1;32m    537\u001b[0m         \u001b[0;32mreturn\u001b[0m \u001b[0mwrapper\u001b[0m\u001b[0;34m\u001b[0m\u001b[0;34m\u001b[0m\u001b[0m\n",
      "\u001b[0;32m~/.local/lib/python3.9/site-packages/astropy/io/fits/convenience.py\u001b[0m in \u001b[0;36mwriteto\u001b[0;34m(filename, data, header, output_verify, overwrite, checksum)\u001b[0m\n\u001b[1;32m    422\u001b[0m     \u001b[0;32mif\u001b[0m \u001b[0mhdu\u001b[0m\u001b[0;34m.\u001b[0m\u001b[0mis_image\u001b[0m \u001b[0;32mand\u001b[0m \u001b[0;32mnot\u001b[0m \u001b[0misinstance\u001b[0m\u001b[0;34m(\u001b[0m\u001b[0mhdu\u001b[0m\u001b[0;34m,\u001b[0m \u001b[0mPrimaryHDU\u001b[0m\u001b[0;34m)\u001b[0m\u001b[0;34m:\u001b[0m\u001b[0;34m\u001b[0m\u001b[0;34m\u001b[0m\u001b[0m\n\u001b[1;32m    423\u001b[0m         \u001b[0mhdu\u001b[0m \u001b[0;34m=\u001b[0m \u001b[0mPrimaryHDU\u001b[0m\u001b[0;34m(\u001b[0m\u001b[0mdata\u001b[0m\u001b[0;34m,\u001b[0m \u001b[0mheader\u001b[0m\u001b[0;34m=\u001b[0m\u001b[0mheader\u001b[0m\u001b[0;34m)\u001b[0m\u001b[0;34m\u001b[0m\u001b[0;34m\u001b[0m\u001b[0m\n\u001b[0;32m--> 424\u001b[0;31m     hdu.writeto(filename, overwrite=overwrite, output_verify=output_verify,\n\u001b[0m\u001b[1;32m    425\u001b[0m                 checksum=checksum)\n\u001b[1;32m    426\u001b[0m \u001b[0;34m\u001b[0m\u001b[0m\n",
      "\u001b[0;32m~/.local/lib/python3.9/site-packages/astropy/utils/decorators.py\u001b[0m in \u001b[0;36mwrapper\u001b[0;34m(*args, **kwargs)\u001b[0m\n\u001b[1;32m    533\u001b[0m                     \u001b[0mwarnings\u001b[0m\u001b[0;34m.\u001b[0m\u001b[0mwarn\u001b[0m\u001b[0;34m(\u001b[0m\u001b[0mmessage\u001b[0m\u001b[0;34m,\u001b[0m \u001b[0mwarning_type\u001b[0m\u001b[0;34m,\u001b[0m \u001b[0mstacklevel\u001b[0m\u001b[0;34m=\u001b[0m\u001b[0;36m2\u001b[0m\u001b[0;34m)\u001b[0m\u001b[0;34m\u001b[0m\u001b[0;34m\u001b[0m\u001b[0m\n\u001b[1;32m    534\u001b[0m \u001b[0;34m\u001b[0m\u001b[0m\n\u001b[0;32m--> 535\u001b[0;31m             \u001b[0;32mreturn\u001b[0m \u001b[0mfunction\u001b[0m\u001b[0;34m(\u001b[0m\u001b[0;34m*\u001b[0m\u001b[0margs\u001b[0m\u001b[0;34m,\u001b[0m \u001b[0;34m**\u001b[0m\u001b[0mkwargs\u001b[0m\u001b[0;34m)\u001b[0m\u001b[0;34m\u001b[0m\u001b[0;34m\u001b[0m\u001b[0m\n\u001b[0m\u001b[1;32m    536\u001b[0m \u001b[0;34m\u001b[0m\u001b[0m\n\u001b[1;32m    537\u001b[0m         \u001b[0;32mreturn\u001b[0m \u001b[0mwrapper\u001b[0m\u001b[0;34m\u001b[0m\u001b[0;34m\u001b[0m\u001b[0m\n",
      "\u001b[0;32m~/.local/lib/python3.9/site-packages/astropy/io/fits/hdu/base.py\u001b[0m in \u001b[0;36mwriteto\u001b[0;34m(self, name, output_verify, overwrite, checksum)\u001b[0m\n\u001b[1;32m    369\u001b[0m \u001b[0;34m\u001b[0m\u001b[0m\n\u001b[1;32m    370\u001b[0m         \u001b[0mhdulist\u001b[0m \u001b[0;34m=\u001b[0m \u001b[0mHDUList\u001b[0m\u001b[0;34m(\u001b[0m\u001b[0;34m[\u001b[0m\u001b[0mself\u001b[0m\u001b[0;34m]\u001b[0m\u001b[0;34m)\u001b[0m\u001b[0;34m\u001b[0m\u001b[0;34m\u001b[0m\u001b[0m\n\u001b[0;32m--> 371\u001b[0;31m         hdulist.writeto(name, output_verify, overwrite=overwrite,\n\u001b[0m\u001b[1;32m    372\u001b[0m                         checksum=checksum)\n\u001b[1;32m    373\u001b[0m \u001b[0;34m\u001b[0m\u001b[0m\n",
      "\u001b[0;32m~/.local/lib/python3.9/site-packages/astropy/utils/decorators.py\u001b[0m in \u001b[0;36mwrapper\u001b[0;34m(*args, **kwargs)\u001b[0m\n\u001b[1;32m    533\u001b[0m                     \u001b[0mwarnings\u001b[0m\u001b[0;34m.\u001b[0m\u001b[0mwarn\u001b[0m\u001b[0;34m(\u001b[0m\u001b[0mmessage\u001b[0m\u001b[0;34m,\u001b[0m \u001b[0mwarning_type\u001b[0m\u001b[0;34m,\u001b[0m \u001b[0mstacklevel\u001b[0m\u001b[0;34m=\u001b[0m\u001b[0;36m2\u001b[0m\u001b[0;34m)\u001b[0m\u001b[0;34m\u001b[0m\u001b[0;34m\u001b[0m\u001b[0m\n\u001b[1;32m    534\u001b[0m \u001b[0;34m\u001b[0m\u001b[0m\n\u001b[0;32m--> 535\u001b[0;31m             \u001b[0;32mreturn\u001b[0m \u001b[0mfunction\u001b[0m\u001b[0;34m(\u001b[0m\u001b[0;34m*\u001b[0m\u001b[0margs\u001b[0m\u001b[0;34m,\u001b[0m \u001b[0;34m**\u001b[0m\u001b[0mkwargs\u001b[0m\u001b[0;34m)\u001b[0m\u001b[0;34m\u001b[0m\u001b[0;34m\u001b[0m\u001b[0m\n\u001b[0m\u001b[1;32m    536\u001b[0m \u001b[0;34m\u001b[0m\u001b[0m\n\u001b[1;32m    537\u001b[0m         \u001b[0;32mreturn\u001b[0m \u001b[0mwrapper\u001b[0m\u001b[0;34m\u001b[0m\u001b[0;34m\u001b[0m\u001b[0m\n",
      "\u001b[0;32m~/.local/lib/python3.9/site-packages/astropy/io/fits/hdu/hdulist.py\u001b[0m in \u001b[0;36mwriteto\u001b[0;34m(self, fileobj, output_verify, overwrite, checksum)\u001b[0m\n\u001b[1;32m    931\u001b[0m         \u001b[0;31m# This can accept an open file object that's open to write only, or in\u001b[0m\u001b[0;34m\u001b[0m\u001b[0;34m\u001b[0m\u001b[0;34m\u001b[0m\u001b[0m\n\u001b[1;32m    932\u001b[0m         \u001b[0;31m# append/update modes but only if the file doesn't exist.\u001b[0m\u001b[0;34m\u001b[0m\u001b[0;34m\u001b[0m\u001b[0;34m\u001b[0m\u001b[0m\n\u001b[0;32m--> 933\u001b[0;31m         \u001b[0mfileobj\u001b[0m \u001b[0;34m=\u001b[0m \u001b[0m_File\u001b[0m\u001b[0;34m(\u001b[0m\u001b[0mfileobj\u001b[0m\u001b[0;34m,\u001b[0m \u001b[0mmode\u001b[0m\u001b[0;34m=\u001b[0m\u001b[0mmode\u001b[0m\u001b[0;34m,\u001b[0m \u001b[0moverwrite\u001b[0m\u001b[0;34m=\u001b[0m\u001b[0moverwrite\u001b[0m\u001b[0;34m)\u001b[0m\u001b[0;34m\u001b[0m\u001b[0;34m\u001b[0m\u001b[0m\n\u001b[0m\u001b[1;32m    934\u001b[0m         \u001b[0mhdulist\u001b[0m \u001b[0;34m=\u001b[0m \u001b[0mself\u001b[0m\u001b[0;34m.\u001b[0m\u001b[0mfromfile\u001b[0m\u001b[0;34m(\u001b[0m\u001b[0mfileobj\u001b[0m\u001b[0;34m)\u001b[0m\u001b[0;34m\u001b[0m\u001b[0;34m\u001b[0m\u001b[0m\n\u001b[1;32m    935\u001b[0m         \u001b[0;32mtry\u001b[0m\u001b[0;34m:\u001b[0m\u001b[0;34m\u001b[0m\u001b[0;34m\u001b[0m\u001b[0m\n",
      "\u001b[0;32m~/.local/lib/python3.9/site-packages/astropy/utils/decorators.py\u001b[0m in \u001b[0;36mwrapper\u001b[0;34m(*args, **kwargs)\u001b[0m\n\u001b[1;32m    533\u001b[0m                     \u001b[0mwarnings\u001b[0m\u001b[0;34m.\u001b[0m\u001b[0mwarn\u001b[0m\u001b[0;34m(\u001b[0m\u001b[0mmessage\u001b[0m\u001b[0;34m,\u001b[0m \u001b[0mwarning_type\u001b[0m\u001b[0;34m,\u001b[0m \u001b[0mstacklevel\u001b[0m\u001b[0;34m=\u001b[0m\u001b[0;36m2\u001b[0m\u001b[0;34m)\u001b[0m\u001b[0;34m\u001b[0m\u001b[0;34m\u001b[0m\u001b[0m\n\u001b[1;32m    534\u001b[0m \u001b[0;34m\u001b[0m\u001b[0m\n\u001b[0;32m--> 535\u001b[0;31m             \u001b[0;32mreturn\u001b[0m \u001b[0mfunction\u001b[0m\u001b[0;34m(\u001b[0m\u001b[0;34m*\u001b[0m\u001b[0margs\u001b[0m\u001b[0;34m,\u001b[0m \u001b[0;34m**\u001b[0m\u001b[0mkwargs\u001b[0m\u001b[0;34m)\u001b[0m\u001b[0;34m\u001b[0m\u001b[0;34m\u001b[0m\u001b[0m\n\u001b[0m\u001b[1;32m    536\u001b[0m \u001b[0;34m\u001b[0m\u001b[0m\n\u001b[1;32m    537\u001b[0m         \u001b[0;32mreturn\u001b[0m \u001b[0mwrapper\u001b[0m\u001b[0;34m\u001b[0m\u001b[0;34m\u001b[0m\u001b[0m\n",
      "\u001b[0;32m~/.local/lib/python3.9/site-packages/astropy/io/fits/file.py\u001b[0m in \u001b[0;36m__init__\u001b[0;34m(self, fileobj, mode, memmap, overwrite, cache)\u001b[0m\n\u001b[1;32m    173\u001b[0m             \u001b[0mself\u001b[0m\u001b[0;34m.\u001b[0m\u001b[0m_open_fileobj\u001b[0m\u001b[0;34m(\u001b[0m\u001b[0mfileobj\u001b[0m\u001b[0;34m,\u001b[0m \u001b[0mmode\u001b[0m\u001b[0;34m,\u001b[0m \u001b[0moverwrite\u001b[0m\u001b[0;34m)\u001b[0m\u001b[0;34m\u001b[0m\u001b[0;34m\u001b[0m\u001b[0m\n\u001b[1;32m    174\u001b[0m         \u001b[0;32melif\u001b[0m \u001b[0misinstance\u001b[0m\u001b[0;34m(\u001b[0m\u001b[0mfileobj\u001b[0m\u001b[0;34m,\u001b[0m \u001b[0;34m(\u001b[0m\u001b[0mstr\u001b[0m\u001b[0;34m,\u001b[0m \u001b[0mbytes\u001b[0m\u001b[0;34m)\u001b[0m\u001b[0;34m)\u001b[0m\u001b[0;34m:\u001b[0m\u001b[0;34m\u001b[0m\u001b[0;34m\u001b[0m\u001b[0m\n\u001b[0;32m--> 175\u001b[0;31m             \u001b[0mself\u001b[0m\u001b[0;34m.\u001b[0m\u001b[0m_open_filename\u001b[0m\u001b[0;34m(\u001b[0m\u001b[0mfileobj\u001b[0m\u001b[0;34m,\u001b[0m \u001b[0mmode\u001b[0m\u001b[0;34m,\u001b[0m \u001b[0moverwrite\u001b[0m\u001b[0;34m)\u001b[0m\u001b[0;34m\u001b[0m\u001b[0;34m\u001b[0m\u001b[0m\n\u001b[0m\u001b[1;32m    176\u001b[0m         \u001b[0;32melse\u001b[0m\u001b[0;34m:\u001b[0m\u001b[0;34m\u001b[0m\u001b[0;34m\u001b[0m\u001b[0m\n\u001b[1;32m    177\u001b[0m             \u001b[0mself\u001b[0m\u001b[0;34m.\u001b[0m\u001b[0m_open_filelike\u001b[0m\u001b[0;34m(\u001b[0m\u001b[0mfileobj\u001b[0m\u001b[0;34m,\u001b[0m \u001b[0mmode\u001b[0m\u001b[0;34m,\u001b[0m \u001b[0moverwrite\u001b[0m\u001b[0;34m)\u001b[0m\u001b[0;34m\u001b[0m\u001b[0;34m\u001b[0m\u001b[0m\n",
      "\u001b[0;32m~/.local/lib/python3.9/site-packages/astropy/io/fits/file.py\u001b[0m in \u001b[0;36m_open_filename\u001b[0;34m(self, filename, mode, overwrite)\u001b[0m\n\u001b[1;32m    551\u001b[0m \u001b[0;34m\u001b[0m\u001b[0m\n\u001b[1;32m    552\u001b[0m         \u001b[0;32mif\u001b[0m \u001b[0mmode\u001b[0m \u001b[0;34m==\u001b[0m \u001b[0;34m'ostream'\u001b[0m\u001b[0;34m:\u001b[0m\u001b[0;34m\u001b[0m\u001b[0;34m\u001b[0m\u001b[0m\n\u001b[0;32m--> 553\u001b[0;31m             \u001b[0mself\u001b[0m\u001b[0;34m.\u001b[0m\u001b[0m_overwrite_existing\u001b[0m\u001b[0;34m(\u001b[0m\u001b[0moverwrite\u001b[0m\u001b[0;34m,\u001b[0m \u001b[0;32mNone\u001b[0m\u001b[0;34m,\u001b[0m \u001b[0;32mTrue\u001b[0m\u001b[0;34m)\u001b[0m\u001b[0;34m\u001b[0m\u001b[0;34m\u001b[0m\u001b[0m\n\u001b[0m\u001b[1;32m    554\u001b[0m \u001b[0;34m\u001b[0m\u001b[0m\n\u001b[1;32m    555\u001b[0m         \u001b[0;32mif\u001b[0m \u001b[0mos\u001b[0m\u001b[0;34m.\u001b[0m\u001b[0mpath\u001b[0m\u001b[0;34m.\u001b[0m\u001b[0mexists\u001b[0m\u001b[0;34m(\u001b[0m\u001b[0mself\u001b[0m\u001b[0;34m.\u001b[0m\u001b[0mname\u001b[0m\u001b[0;34m)\u001b[0m\u001b[0;34m:\u001b[0m\u001b[0;34m\u001b[0m\u001b[0;34m\u001b[0m\u001b[0m\n",
      "\u001b[0;32m~/.local/lib/python3.9/site-packages/astropy/io/fits/file.py\u001b[0m in \u001b[0;36m_overwrite_existing\u001b[0;34m(self, overwrite, fileobj, closed)\u001b[0m\n\u001b[1;32m    441\u001b[0m                     \u001b[0mos\u001b[0m\u001b[0;34m.\u001b[0m\u001b[0mremove\u001b[0m\u001b[0;34m(\u001b[0m\u001b[0mself\u001b[0m\u001b[0;34m.\u001b[0m\u001b[0mname\u001b[0m\u001b[0;34m)\u001b[0m\u001b[0;34m\u001b[0m\u001b[0;34m\u001b[0m\u001b[0m\n\u001b[1;32m    442\u001b[0m             \u001b[0;32melse\u001b[0m\u001b[0;34m:\u001b[0m\u001b[0;34m\u001b[0m\u001b[0;34m\u001b[0m\u001b[0m\n\u001b[0;32m--> 443\u001b[0;31m                 \u001b[0;32mraise\u001b[0m \u001b[0mOSError\u001b[0m\u001b[0;34m(\u001b[0m\u001b[0;34mf\"File {self.name!r} already exists.\"\u001b[0m\u001b[0;34m)\u001b[0m\u001b[0;34m\u001b[0m\u001b[0;34m\u001b[0m\u001b[0m\n\u001b[0m\u001b[1;32m    444\u001b[0m \u001b[0;34m\u001b[0m\u001b[0m\n\u001b[1;32m    445\u001b[0m     \u001b[0;32mdef\u001b[0m \u001b[0m_try_read_compressed\u001b[0m\u001b[0;34m(\u001b[0m\u001b[0mself\u001b[0m\u001b[0;34m,\u001b[0m \u001b[0mobj_or_name\u001b[0m\u001b[0;34m,\u001b[0m \u001b[0mmagic\u001b[0m\u001b[0;34m,\u001b[0m \u001b[0mmode\u001b[0m\u001b[0;34m,\u001b[0m \u001b[0mext\u001b[0m\u001b[0;34m=\u001b[0m\u001b[0;34m''\u001b[0m\u001b[0;34m)\u001b[0m\u001b[0;34m:\u001b[0m\u001b[0;34m\u001b[0m\u001b[0;34m\u001b[0m\u001b[0m\n",
      "\u001b[0;31mOSError\u001b[0m: File 'fit7.fits' already exists."
     ]
    },
    {
     "data": {
      "image/png": "[encoded data removed]",
      "text/plain": [
       "<Figure size 432x288 with 2 Axes>"
      ]
     },
     "metadata": {
      "needs_background": "light"
     },
     "output_type": "display_data"
    }
   ],
   "source": [
    "#usage of the 2 functions above\n",
    "p_dir = 'fitsFile'\n",
    "sim_para = {}\n",
    "get_imagelog_info(sim_para, p_dir)\n",
    "processimage(p_dirin=p_dir+'/data_1300/data_1300/', p_dirout='./', fileout='fit7.fits', p_bpa=0, p_bmaj=0.1, p_bmin=0.1, p_Jy=False, p_perbeam=False, p_i=0, sim_para=sim_para)"
   ]
  },
  {
   "cell_type": "code",
   "execution_count": 223,
   "id": "5cb5430a",
   "metadata": {
    "scrolled": true
   },
   "outputs": [
    {
     "name": "stdout",
     "output_type": "stream",
     "text": [
      "Filename: fit7.fits\n",
      "No.    Name      Ver    Type      Cards   Dimensions   Format\n",
      "  0  PRIMARY       1 PrimaryHDU      40   (1024, 1024)   float64   \n"
     ]
    }
   ],
   "source": [
    "filegen = fits.open('fit7.fits')\n",
    "filegen.info()"
   ]
  },
  {
   "cell_type": "code",
   "execution_count": 224,
   "id": "3bef5fc5",
   "metadata": {},
   "outputs": [
    {
     "data": {
      "text/plain": [
       "SIMPLE  =                    T / conforms to FITS standard                      \n",
       "BITPIX  =                  -64 / array data type                                \n",
       "NAXIS   =                    2 / number of array dimensions                     \n",
       "NAXIS1  =                 1024                                                  \n",
       "NAXIS2  =                 1024                                                  \n",
       "COMMENT   FITS (Flexible Image Transport System) format is defined in 'Astronomy\n",
       "COMMENT   and Astrophysics', volume 376, page 359; bibcode: 2001A&A...376..359H \n",
       "WAVE    =                1300. / wavelength [microns]                           \n",
       "CTYPE1  = 'RA---TAN'                                                            \n",
       "CRVAL1  =                   0. / RAD                                            \n",
       "CRPIX1  =                  513                                                  \n",
       "CDELT1  =        -5.118252E-07 / pixel scale x [deg]                            \n",
       "CUNIT1  = 'deg     '                                                            \n",
       "CTYPE2  = 'DEC--TAN'                                                            \n",
       "CRVAL2  =                   0. / DEC                                            \n",
       "CRPIX2  =                  513                                                  \n",
       "CDELT2  =         5.118252E-07 / pixel scale y [deg]                            \n",
       "CUNIT2  = 'deg     '                                                            \n",
       "BUNIT   = 'W.m-2.pixel-1'      / lambda.F_lambda                                \n",
       "FLUX_1  = 'I = total flux'                                                      \n",
       "FLUX_2  = 'Q       '                                                            \n",
       "FLUX_3  = 'U       '                                                            \n",
       "FLUX_4  = 'V       '                                                            \n",
       "NSTARS  =                    1                                                  \n",
       "TSTAR0  =               3792.0 / K                                              \n",
       "MSTAR0  =                 0.83 / M_sun                                          \n",
       "RSTAR0  =                  0.8 / R_sun                                          \n",
       "BMAJ    =                  0.1                                                  \n",
       "BMIN    =                  0.1                                                  \n",
       "BPA     =                    0                                                  \n",
       "MGAS    =         0.0029160036 / Msun                                           \n",
       "MDUST   =        1.8799945E-05 / Msun                                           \n",
       "MPLANET0=     2.03694933615489 / Mj                                             \n",
       "RORBP0  =             32.04825 / au                                             \n",
       "NPLANETS=                    1                                                  \n",
       "DISKPA  =                 69.0                                                  \n",
       "IMIN    =                 65.0                                                  \n",
       "IMAX    =                 65.0                                                  \n",
       "NI      =                    1                                                  \n",
       "DISTANCE=                159.0 / pc                                             "
      ]
     },
     "execution_count": 224,
     "metadata": {},
     "output_type": "execute_result"
    }
   ],
   "source": [
    "filegen[0].header"
   ]
  },
  {
   "cell_type": "code",
   "execution_count": 273,
   "id": "cd0fd13a",
   "metadata": {},
   "outputs": [
    {
     "data": {
      "text/plain": [
       "['MP001_time66', 'MP001_time664', 'MP001_time661']"
      ]
     },
     "execution_count": 273,
     "metadata": {},
     "output_type": "execute_result"
    }
   ],
   "source": [
    "import re\n",
    "prova = ['MP001_time66', 'MP001_time664', 'altro', 'MP001_time661']\n",
    "dir_mod = re.compile(\"MP[0-9]+_time[0-9]+\")\n",
    "provafilt = [str for str in prova if dir_mod.match(str)]\n",
    "provafilt"
   ]
  },
  {
   "cell_type": "code",
   "execution_count": 264,
   "id": "fafd2579",
   "metadata": {},
   "outputs": [
    {
     "name": "stdout",
     "output_type": "stream",
     "text": [
      "<re.Match object; span=(0, 12), match='MP001_time66'>\n"
     ]
    }
   ],
   "source": [
    "print(dom)"
   ]
  },
  {
   "cell_type": "code",
   "execution_count": 281,
   "id": "f2646b91",
   "metadata": {},
   "outputs": [],
   "source": []
  },
  {
   "cell_type": "code",
   "execution_count": 283,
   "id": "eee081d0",
   "metadata": {},
   "outputs": [
    {
     "data": {
      "text/plain": [
       "'fkf'"
      ]
     },
     "execution_count": 283,
     "metadata": {},
     "output_type": "execute_result"
    }
   ],
   "source": [
    "str1"
   ]
  },
  {
   "cell_type": "code",
   "execution_count": 3,
   "id": "930a710d",
   "metadata": {},
   "outputs": [
    {
     "data": {
      "text/plain": [
       "'1300'"
      ]
     },
     "execution_count": 3,
     "metadata": {},
     "output_type": "execute_result"
    }
   ],
   "source": [
    "datat = 'dat1300'\n",
    "datat.split('dat')[-1]"
   ]
  },
  {
   "cell_type": "code",
   "execution_count": 14,
   "id": "944032a3",
   "metadata": {},
   "outputs": [
    {
     "ename": "SyntaxError",
     "evalue": "invalid digit '4' in binary literal (<ipython-input-14-03d93541b325>, line 1)",
     "output_type": "error",
     "traceback": [
      "\u001b[0;36m  File \u001b[0;32m\"<ipython-input-14-03d93541b325>\"\u001b[0;36m, line \u001b[0;32m1\u001b[0m\n\u001b[0;31m    0b04\u001b[0m\n\u001b[0m       ^\u001b[0m\n\u001b[0;31mSyntaxError\u001b[0m\u001b[0;31m:\u001b[0m invalid digit '4' in binary literal\n"
     ]
    }
   ],
   "source": []
  },
  {
   "cell_type": "code",
   "execution_count": 29,
   "id": "ad2e51ad",
   "metadata": {},
   "outputs": [
    {
     "name": "stdout",
     "output_type": "stream",
     "text": [
      "<re.Match object; span=(0, 9), match='data_1300'>\n"
     ]
    }
   ],
   "source": [
    "sprove = 'data_1300'\n",
    "dir_mod3 = re.compile(\"^data_[0-9]+$\")\n",
    "print(dir_mod3.match(sprove))"
   ]
  },
  {
   "cell_type": "code",
   "execution_count": null,
   "id": "e9f8df28",
   "metadata": {},
   "outputs": [],
   "source": []
  }
 ],
 "metadata": {
  "kernelspec": {
   "display_name": "Python 3",
   "language": "python",
   "name": "python3"
  },
  "language_info": {
   "codemirror_mode": {
    "name": "ipython",
    "version": 3
   },
   "file_extension": ".py",
   "mimetype": "text/x-python",
   "name": "python",
   "nbconvert_exporter": "python",
   "pygments_lexer": "ipython3",
   "version": "3.9.5"
  }
 },
 "nbformat": 4,
 "nbformat_minor": 5
}
