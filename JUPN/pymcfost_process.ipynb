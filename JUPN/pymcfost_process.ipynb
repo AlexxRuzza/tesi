{
 "cells": [
  {
   "cell_type": "code",
   "execution_count": 7,
   "id": "6896187c",
   "metadata": {},
   "outputs": [],
   "source": [
    "import numpy as np\n",
    "import matplotlib\n",
    "import matplotlib.pyplot as plt\n",
    "from astropy.io import fits\n",
    "import pymcfost as mcfost\n",
    "mcfost.__version__\n",
    "%matplotlib inline\n",
    "\n",
    "#p_dirin -> directory with mcfost files .para e RT.fits.gz\n",
    "def processimage(p_dirin, p_dirout, fileout, p_bpa, p_bmaj, p_bmin, p_Jy=False, p_perbeam=False, i=0):\n",
    "    image = mcfost.Image(p_dirin)\n",
    "    pltimage = image.plot(i=p_i, bpa=p_bpa, bmaj=p_bmaj, bmin=p_bmin,scale='lin',Jy=p_Jy, per_beam=p_perbeam, no_ylabel=True,no_xlabel=True,plot_stars=False,limits=[0.8,-0.8,-0.8,0.8])\n",
    "    \n",
    "    header = image.header\n",
    "    \n",
    "    #manually updating header.BUNIT\n",
    "    bunit_1 = 'W.m-2'\n",
    "    bunit_2 = '.pixel-1'\n",
    "    if p_Jy:\n",
    "        bunit_1 = 'Jy'\n",
    "    if p_perbeam:\n",
    "        bunit_2 = '.beam-1'\n",
    "    header['BUNIT'] = bunit_1 + bunit_2\n",
    "    \n",
    "    #adding simulation parameters to the header\n",
    "    \n",
    "    #star properties\n",
    "    nstars = image.P.simu.n_stars\n",
    "    header['NSTARS'] = nstars\n",
    "    for i in range(0, NSTARS):\n",
    "        header['TSTAR' + str(i)] = image.P.stars[i].Teff, 'K'\n",
    "        header['MSTAR' + str(i)] = image.P.stars[i].M, 'M_sun'\n",
    "        header['RSTAR' + str(i)] = image.P.stars[i].R, 'R_sun'\n",
    "        \n",
    "    #beam informations\n",
    "    header['BMAJ'] = p_bmaj\n",
    "    header['BMIN'] = p_bmin\n",
    "    header['BPA'] = p_bpa\n",
    "    \n",
    "    #saving fits file\n",
    "    image.writeto(filename=p_dirout+fileout)\n",
    "    "
   ]
  },
  {
   "cell_type": "code",
   "execution_count": 6,
   "id": "68852810",
   "metadata": {},
   "outputs": [
    {
     "data": {
      "text/plain": [
       "[0]"
      ]
     },
     "execution_count": 6,
     "metadata": {},
     "output_type": "execute_result"
    }
   ],
   "source": []
  },
  {
   "cell_type": "code",
   "execution_count": null,
   "id": "5cbba933",
   "metadata": {},
   "outputs": [],
   "source": []
  }
 ],
 "metadata": {
  "kernelspec": {
   "display_name": "Python 3",
   "language": "python",
   "name": "python3"
  },
  "language_info": {
   "codemirror_mode": {
    "name": "ipython",
    "version": 3
   },
   "file_extension": ".py",
   "mimetype": "text/x-python",
   "name": "python",
   "nbconvert_exporter": "python",
   "pygments_lexer": "ipython3",
   "version": "3.9.5"
  }
 },
 "nbformat": 4,
 "nbformat_minor": 5
}
