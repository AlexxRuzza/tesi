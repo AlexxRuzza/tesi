{
 "cells": [
  {
   "cell_type": "code",
   "execution_count": 1,
   "id": "6896187c",
   "metadata": {},
   "outputs": [
    {
     "name": "stdout",
     "output_type": "stream",
     "text": [
      "WARNING: mpl_scatter_density is not present\n",
      "WARNING: progressbar is not present\n"
     ]
    }
   ],
   "source": [
    "import numpy as np\n",
    "import matplotlib\n",
    "import matplotlib.pyplot as plt\n",
    "from astropy.io import fits\n",
    "import pymcfost as mcfost\n",
    "mcfost.__version__\n",
    "#%matplotlib inline\n",
    "\n",
    "#p_dirin -> directory with mcfost files .para e RT.fits.gz\n",
    "#sim_para -> dict with parameters that need to be added to the header\n",
    "#function that generates the post pymcfost image with added information in the header\n",
    "def generateImage(p_dirin,\n",
    "                  p_bmaj,\n",
    "                  p_bmin,\n",
    "                  p_bpa = 0,\n",
    "                  p_dirout='./',\n",
    "                  fileout='ris2.fits',\n",
    "                  p_Jy=True,\n",
    "                  p_perbeam=True,\n",
    "                  p_i=0,\n",
    "                  sim_para={},\n",
    "                  ax=None\n",
    "                 ):\n",
    "    \n",
    "    image = mcfost.Image(p_dirin)\n",
    "    pltimage = image.plot(i=p_i, bpa=p_bpa, bmaj=p_bmaj,\n",
    "                          bmin=p_bmin,scale='lin',Jy=p_Jy, per_beam=p_perbeam,\n",
    "                          no_ylabel=True,no_xlabel=True,\n",
    "                          plot_stars=False,limits=[0.8,-0.8,-0.8,0.8], ax=ax, title=fileout)\n",
    "    header = image.header\n",
    "    \n",
    "    #manually updating header.BUNIT\n",
    "    bunit_1 = 'W.m-2'\n",
    "    bunit_2 = '.pixel-1'\n",
    "    if p_Jy:\n",
    "        bunit_1 = 'Jy'\n",
    "    if p_perbeam:\n",
    "        bunit_2 = '.beam-1'\n",
    "    header['BUNIT'] = bunit_1 + bunit_2\n",
    "    \n",
    "    #adding simulation parameters to the header\n",
    "    \n",
    "    #star properties\n",
    "    nstars = image.P.simu.n_stars\n",
    "    header['NSTARS'] = nstars\n",
    "    for i in range(0, nstars):\n",
    "        header['TSTAR' + str(i)] = image.P.stars[i].Teff, 'K'\n",
    "        header['MSTAR' + str(i)] = image.P.stars[i].M, 'M_sun'\n",
    "        header['RSTAR' + str(i)] = image.P.stars[i].R, 'R_sun'\n",
    "        \n",
    "    #beam informations\n",
    "    header['BMAJ'] = p_bmaj\n",
    "    header['BMIN'] = p_bmin\n",
    "    header['BPA'] = p_bpa, 'deg'\n",
    "    \n",
    "    #adding info in sim_para dict\n",
    "    for key in sim_para:\n",
    "        header[key] = sim_para[key]\n",
    "        \n",
    "    #inclination and position angle\n",
    "    header['DISKPA'] = image.P.map.PA, 'deg'\n",
    "    header['IMIN'] = image.P.map.RT_imin, 'deg'\n",
    "    header['IMAX'] = image.P.map.RT_imax, 'deg'\n",
    "    header['NI'] = image.P.map.RT_ntheta\n",
    "    header['IUSED'] = p_i\n",
    "    \n",
    "    #distance\n",
    "    header['DISTANCE'] = image.P.map.distance, 'pc'\n",
    "    \n",
    "    #saving fits file\n",
    "    image.writeto(filename=p_dirout+'/' + fileout)\n",
    "    "
   ]
  },
  {
   "cell_type": "code",
   "execution_count": 2,
   "id": "ce6080df",
   "metadata": {},
   "outputs": [],
   "source": [
    "#function that extracts informations from image.log file\n",
    "def get_imagelog_info(sim_para, p_dir):\n",
    "    logf = open(p_dir+'/image.log')\n",
    "    data = logf.read()\n",
    "    \n",
    "    #read gass mass and dust mass\n",
    "    i_mg = data.find('gas mass')\n",
    "    str_mg = data[i_mg:i_mg+data[i_mg:].find('\\n')].split(' ')\n",
    "    sim_para['MGAS']  = (float(str_mg[-2]), str_mg[-1])\n",
    "    if str_mg[-1]!='Msun' :\n",
    "        print('Error: gas mass not in M_sun units')\n",
    "    i_md = data.find('dust mass')\n",
    "    str_md = data[i_md:i_md+data[i_md:].find('\\n')].split(' ')\n",
    "    sim_para['MDUST']  = (float(str_md[-2]), str_md[-1])\n",
    "    if str_md[-1]!='Msun' :\n",
    "        print('Error: dust mass not in M_sun units')\n",
    "        \n",
    "    #read planet mass and orbital radius\n",
    "    i_sink = []\n",
    "    i_sink.append(data.find('Sink'))\n",
    "    i_sink.append(i_sink[-1] + data[i_sink[-1]+1:].find('Sink'))\n",
    "    while i_sink[-1]-i_sink[-2]!= 0:\n",
    "        i_sink.append(i_sink[-1] + 1+ data[i_sink[-1]+1:].find('Sink'))\n",
    "    i_sink.pop(-1)\n",
    "    i_sink.pop(0)\n",
    "    i_sink.append(i_sink[-1]+200)\n",
    "    str_sink = [data[i_sink[i]:i_sink[i+1]] for i in range(0, len(i_sink)-1)]\n",
    "\n",
    "    sink_index = 0\n",
    "    for info in str_sink:\n",
    "        if info.find('distance') > 0:\n",
    "            info = \" \".join(info.split())\n",
    "            i_m = info.find('M')\n",
    "            str_m = info[i_m:i_m+1+info[i_m+1:].find('M')+2]\n",
    "            sim_para['MPLANET'+str(sink_index)] = float(str_m.split('=')[-1].split(' ')[-2]), str_m.split('=')[-1].split(' ')[-1]\n",
    "            i_r = info.find('distance')\n",
    "            str_r = info[i_r:i_r+1+info[i_r+1:].find('au')+2]\n",
    "            sim_para['RORBP'+str(sink_index)] = float(str_r.split('=')[-1].split(' ')[-2]), str_r.split('=')[-1].split(' ')[-1]\n",
    "            sink_index+=1\n",
    "    sim_para['NPLANETS'] = sink_index"
   ]
  },
  {
   "cell_type": "code",
   "execution_count": 31,
   "id": "0dbbfdc5",
   "metadata": {},
   "outputs": [],
   "source": [
    "import os\n",
    "import re\n",
    "import hashlib\n",
    "from pathlib import Path\n",
    "\n",
    "def read_dirs_doimages(parent_dir='./', beam_dims=[0.1]):\n",
    "    \n",
    "    #setting global parameters, values for  dstau simulations\n",
    "    sim_para = \n",
    "    {\n",
    "        'RIN': (10, 'au, initial disk inner radius' ),\n",
    "        'ROUT': (100, 'au, initial disk outer radius'),\n",
    "        'RC': (70, 'au, radius of exponential taper'),\n",
    "        'HRIN': (0.6,'aspect ratio at R_in'),\n",
    "        'ALPHASS': (0.005, 'Shakura-Sunyaev viscosity'),\n",
    "        'RHOG': (1, 'g/cm^3, intrinsic grain density'),\n",
    "        'PINDEX': (1, 'power law index for gas surface density profile'),\n",
    "        'QINDEX': (0.25, 'power law index for sound speed profile'),\n",
    "    }\n",
    "    \n",
    "    current_dir = parent_dir\n",
    "    key = 0\n",
    "    out_dir = parent_dir + 'processed_fits/'\n",
    "    out_dir_content = ''\n",
    "    \n",
    "    #setting up plotting\n",
    "    key_plots = 0\n",
    "    curr_sub = 0\n",
    "    #please don't set rows or cols to 1!\n",
    "    plot_rows = 2\n",
    "    plot_cols = 2\n",
    "    fig, axs = plt.subplots(plot_rows, plot_cols)\n",
    "    fig.set_size_inches(5*plot_cols,5*plot_rows)\n",
    "    \n",
    "    #getting dir content\n",
    "    dir_cont = os.listdir(parent_dir)\n",
    "    \n",
    "    #creating dir for the fits file that will be produced\n",
    "    if 'processed_fits' not in dir_cont:\n",
    "        os.mkdir(parent_dir + 'processed_fits')\n",
    "        out_dir = parent_dir + 'processed_fits/'\n",
    "        Path(out_dir+'source_hashes.sha1').touch()\n",
    "    else:\n",
    "        #if the output dir already exists check for last key and update\n",
    "        #retrieving output dir content \n",
    "        out_dir_content = os.listdir(out_dir)\n",
    "        \n",
    "        #if .fits exists get max key already present and restart from there\n",
    "        fits_sim_mod = re.compile(\"^\\d{6}MP\\d+_time\\d+gd\\d+W\\d+B\\d+.fits$\")\n",
    "        keys = [int(filename[:6]) for filename in out_dir_content if fits_sim_mod.match(filename)]\n",
    "        if keys != []:\n",
    "            key = max(keys) + 1\n",
    "        \n",
    "        #if _images.png exists get max key_plots already present and restart from there\n",
    "        im_mod = re.compile(\"^\\d{3}_images.png$\")\n",
    "        keys = [int(filename[:3]) for filename in out_dir_content if im_mod.match(filename)]\n",
    "        if keys != []:\n",
    "            key_plots = max(keys) + 1\n",
    "            \n",
    "        if 'source_hashes.sha1' not in out_dir_content:\n",
    "            Path(out_dir+'source_hashes.sha1').touch()\n",
    "            \n",
    "    #cleaning dir content\n",
    "    dir_mod = re.compile(\"^MP[0-9]+_time[0-9]+$\")\n",
    "    subdirs1 = [sd for sd in dir_cont if dir_mod.match(sd)]\n",
    "    \n",
    "    #cicle for /MP#_time#/ \n",
    "    for sub_dir1 in subdirs1:\n",
    "        \n",
    "        #getting time of simulation\n",
    "        sim_para['TIME'] = int(sub_dir1.split('time')[-1]), 'planet orbits'\n",
    "        \n",
    "        #getting subdirs with the correct format\n",
    "        dir_cont2 = os.listdir(parent_dir+sub_dir1)\n",
    "        dir_mod2 = re.compile(\"^gd[0-9]+$\")\n",
    "        subdirs2 = [sd for sd in dir_cont2 if dir_mod2.match(sd)]\n",
    "        \n",
    "        #cicle for /MP#_time#/gd#/\n",
    "        for sub_dir2 in subdirs2:\n",
    "            \n",
    "            #from now on using sim_para_upd to avoid\n",
    "            #having to delete info that are not overrided\n",
    "            sim_para_upd = sim_para \n",
    "            \n",
    "            #this directory contains image.log and data_### dirs\n",
    "            #updating sim_para with info contained in image.log\n",
    "            get_imagelog_info(sim_para=sim_para_upd, p_dir=parent_dir+sub_dir1+'/'+sub_dir2)\n",
    "            \n",
    "            #searching for data_### dirs\n",
    "            #getting subdirs\n",
    "            dir_cont3 = os.listdir(parent_dir+sub_dir1+'/'+sub_dir2)\n",
    "            dir_mod3 = re.compile(\"^data_[0-9]+$\")\n",
    "            subdirs3 = [sd for sd in dir_cont3 if dir_mod3.match(sd)]\n",
    "            \n",
    "            #cicle for /MP#_time#/gd#/data_#\n",
    "            for sub_dir3 in subdirs3:\n",
    "                \n",
    "                current_dir = parent_dir + sub_dir1 + '/' + sub_dir2 + '/' + sub_dir3 + '/'\n",
    "                \n",
    "                for beam_dim in beam_dims:\n",
    "                    \n",
    "                    #select inclination\n",
    "                    #TODO: handle multiple inclinations\n",
    "                    p_i = 0\n",
    "                    \n",
    "                    #check if a new image for plots needs to be created\n",
    "                    if curr_sub == plot_rows*plot_cols:\n",
    "                            #save plot\n",
    "                            plt.tight_layout()\n",
    "                            print('generating image ' + str(key_plots) + ' ...', end='')\n",
    "                            plt.savefig(out_dir + str(key_plots).zfill(3) + '_images.png')\n",
    "                            plt.close()\n",
    "                            print('done')\n",
    "                            \n",
    "                            #generating new image\n",
    "                            curr_sub = 0\n",
    "                            fig, axs = plt.subplots(plot_rows, plot_cols)\n",
    "                            fig.set_size_inches(10*plot_cols,10*plot_rows)\n",
    "                            key_plots+=1\n",
    "                    \n",
    "                    #generate file name\n",
    "                    key_str = str(key).zfill(6)\n",
    "                    wave_str = sub_dir3.split('data_')[-1]\n",
    "                    out_filename = key_str + sub_dir1 + sub_dir2 + 'W' + wave_str + 'B' + str(beam_dim).split('.')[-1] + '.fits'\n",
    "                    print(key_str + ' - generating ' + out_filename[6:] + '  \\t...', end='')\n",
    "                    info_to_hash = 'bd' + str(beam_dim) +'ii'+ str(p_i) + 'fn' + out_filename[6:]\n",
    "                    \n",
    "                    #check if RT.fits.gz has alredy been processed\n",
    "                    hashes_f = open(out_dir + 'source_hashes.sha1')\n",
    "                    hashes = [line.split('-')[-1].strip() for line in hashes_f.read().split('\\n')]\n",
    "                    RTfile = open(current_dir + 'RT.fits.gz', 'rb')\n",
    "                    xHash = hashlib.sha1((hashlib.sha1(RTfile.read()).hexdigest()+info_to_hash).encode()).hexdigest()\n",
    "                    RTfile.close() \n",
    "                    hashes_f.close()\n",
    "\n",
    "                    if xHash not in hashes:\n",
    "                        generateImage(current_dir, p_bmaj=beam_dim, \n",
    "                                      p_bmin=beam_dim, p_dirout=out_dir, \n",
    "                                      fileout=out_filename, sim_para=sim_para_upd, ax=axs[int(curr_sub/plot_cols), curr_sub%plot_cols])\n",
    "                        key+=1\n",
    "                        hashes_f = open(out_dir + 'source_hashes.sha1', 'a')\n",
    "                        hashes_f.write(key_str + ' - ' + xHash + '\\n')\n",
    "                        hashes_f.close()\n",
    "                        \n",
    "                        print('done')\n",
    "                        curr_sub+=1\n",
    "                        \n",
    "                    else:\n",
    "                        print('exists, skipped')\n",
    "                        \n",
    "    print('generating image ' + str(key_plots) + ' ...', end='')\n",
    "    plt.tight_layout()\n",
    "    plt.savefig(out_dir + str(key_plots).zfill(3) + '_images.png') \n",
    "    print('done')\n",
    "    plt.close()"
   ]
  },
  {
   "cell_type": "code",
   "execution_count": 10,
   "id": "6cd246f0-dabf-43ef-94b5-7751e4047a4c",
   "metadata": {},
   "outputs": [],
   "source": [
    "from astropy import constants as const\n",
    "\n",
    "def HR_profile(r, hrin=0.06, rin=10, q=0.25):\n",
    "    return hrin*(r/rin)**(0.5-q)\n",
    "\n",
    "def cs_profile(r, hrin=0.06, rin=10, q=0.25, M_st=0.83):\n",
    "    v_k  = np.sqrt(const.GM_sun*M_st/r)\n",
    "    return HR_profile(r=r, hrin=hrin, rin=rin, q=q)\n",
    "\n",
    "def T_profile(r, hrin=0.06, rin=10, q=0.25, M_st=0.83, rho_g=1, s=1 ):\n",
    "    return rho_g*4*np.pi*(s*(10**6))**3/(3*const.k_B*1000)*(cs_profile(r, hrin=hrin, rin=rin, q=q, M_st=M_st)**2)"
   ]
  },
  {
   "cell_type": "code",
   "execution_count": 11,
   "id": "ec56b4ab-19e0-4924-b7e0-47b402b6c39b",
   "metadata": {},
   "outputs": [],
   "source": [
    "def computable_features(sim_para):\n",
    "    \n",
    "    #computing features\n",
    "    s = sim_para['WAVE']/(2*np.pi)\n",
    "    rp = sim_para['RORBP']\n",
    "    hrp = HR_profile(rp, hrin=sim_para['HRIN'], rin=sim_para['RIN'], q=sim_para['QINDEX'])\n",
    "    Trp = T_profile(rp, hrin=sim_para['HRIN'], rin=sim_para['RIN'], q=sim_para['QINDEX'], M_st=sim_para['MSTAR0'], rho_g=sim_para['RHOG'], s=s)\n",
    "    \n",
    "    #adding them to sim_para\n",
    "    sim_para['GRSIZE'] = (s, 'grain size')\n",
    "    sim_para['HR'] = (hrp, 'aspect ratio at orbital radius')\n",
    "    sim_para['TEMP'] = (Trp, 'temperature at orbital radius')"
   ]
  },
  {
   "cell_type": "code",
   "execution_count": 32,
   "id": "6891129f",
   "metadata": {},
   "outputs": [
    {
     "name": "stdout",
     "output_type": "stream",
     "text": [
      "000000 - generating MP2_time100gd120W1300B1.fits  \t...done\n",
      "000001 - generating MP2_time100gd150W1300B1.fits  \t...done\n",
      "000002 - generating MP1_time120gd10W1300B1.fits  \t...done\n",
      "000003 - generating MP1_time120gd120W1300B1.fits  \t...done\n",
      "generating image 0 ...done\n",
      "000004 - generating MP1_time050gd10W1300B1.fits  \t...done\n",
      "000005 - generating MP1_time050gd110W1300B1.fits  \t...done\n",
      "generating image 1 ...done\n"
     ]
    }
   ],
   "source": [
    "parent_dir='../simulazioni/'\n",
    "read_dirs_doimages(parent_dir=parent_dir)"
   ]
  },
  {
   "cell_type": "markdown",
   "id": "01112edd",
   "metadata": {},
   "source": [
    "TODOs:\n",
    "\n",
    "    - study possible values for beam_size\n",
    "    - update doc\n",
    "    - add info on T and opacity\n",
    "    \n",
    "    - improve get_imagelog_info() with the use of re\n",
    "    \n",
    "    -change read_imagelog to  actually update sim_para"
   ]
  },
  {
   "cell_type": "code",
   "execution_count": 107,
   "id": "2f44b249",
   "metadata": {},
   "outputs": [],
   "source": []
  },
  {
   "cell_type": "code",
   "execution_count": 223,
   "id": "5cb5430a",
   "metadata": {
    "scrolled": true
   },
   "outputs": [
    {
     "name": "stdout",
     "output_type": "stream",
     "text": [
      "Filename: fit7.fits\n",
      "No.    Name      Ver    Type      Cards   Dimensions   Format\n",
      "  0  PRIMARY       1 PrimaryHDU      40   (1024, 1024)   float64   \n"
     ]
    }
   ],
   "source": [
    "filegen = fits.open('fit7.fits')\n",
    "filegen.info()"
   ]
  },
  {
   "cell_type": "code",
   "execution_count": 224,
   "id": "3bef5fc5",
   "metadata": {},
   "outputs": [
    {
     "data": {
      "text/plain": [
       "SIMPLE  =                    T / conforms to FITS standard                      \n",
       "BITPIX  =                  -64 / array data type                                \n",
       "NAXIS   =                    2 / number of array dimensions                     \n",
       "NAXIS1  =                 1024                                                  \n",
       "NAXIS2  =                 1024                                                  \n",
       "COMMENT   FITS (Flexible Image Transport System) format is defined in 'Astronomy\n",
       "COMMENT   and Astrophysics', volume 376, page 359; bibcode: 2001A&A...376..359H \n",
       "WAVE    =                1300. / wavelength [microns]                           \n",
       "CTYPE1  = 'RA---TAN'                                                            \n",
       "CRVAL1  =                   0. / RAD                                            \n",
       "CRPIX1  =                  513                                                  \n",
       "CDELT1  =        -5.118252E-07 / pixel scale x [deg]                            \n",
       "CUNIT1  = 'deg     '                                                            \n",
       "CTYPE2  = 'DEC--TAN'                                                            \n",
       "CRVAL2  =                   0. / DEC                                            \n",
       "CRPIX2  =                  513                                                  \n",
       "CDELT2  =         5.118252E-07 / pixel scale y [deg]                            \n",
       "CUNIT2  = 'deg     '                                                            \n",
       "BUNIT   = 'W.m-2.pixel-1'      / lambda.F_lambda                                \n",
       "FLUX_1  = 'I = total flux'                                                      \n",
       "FLUX_2  = 'Q       '                                                            \n",
       "FLUX_3  = 'U       '                                                            \n",
       "FLUX_4  = 'V       '                                                            \n",
       "NSTARS  =                    1                                                  \n",
       "TSTAR0  =               3792.0 / K                                              \n",
       "MSTAR0  =                 0.83 / M_sun                                          \n",
       "RSTAR0  =                  0.8 / R_sun                                          \n",
       "BMAJ    =                  0.1                                                  \n",
       "BMIN    =                  0.1                                                  \n",
       "BPA     =                    0                                                  \n",
       "MGAS    =         0.0029160036 / Msun                                           \n",
       "MDUST   =        1.8799945E-05 / Msun                                           \n",
       "MPLANET0=     2.03694933615489 / Mj                                             \n",
       "RORBP0  =             32.04825 / au                                             \n",
       "NPLANETS=                    1                                                  \n",
       "DISKPA  =                 69.0                                                  \n",
       "IMIN    =                 65.0                                                  \n",
       "IMAX    =                 65.0                                                  \n",
       "NI      =                    1                                                  \n",
       "DISTANCE=                159.0 / pc                                             "
      ]
     },
     "execution_count": 224,
     "metadata": {},
     "output_type": "execute_result"
    }
   ],
   "source": [
    "filegen[0].header"
   ]
  },
  {
   "cell_type": "code",
   "execution_count": 273,
   "id": "cd0fd13a",
   "metadata": {},
   "outputs": [
    {
     "data": {
      "text/plain": [
       "['MP001_time66', 'MP001_time664', 'MP001_time661']"
      ]
     },
     "execution_count": 273,
     "metadata": {},
     "output_type": "execute_result"
    }
   ],
   "source": [
    "import re\n",
    "prova = ['MP001_time66', 'MP001_time664', 'altro', 'MP001_time661']\n",
    "dir_mod = re.compile(\"MP[0-9]+_time[0-9]+\")\n",
    "provafilt = [str for str in prova if dir_mod.match(str)]\n",
    "provafilt"
   ]
  },
  {
   "cell_type": "code",
   "execution_count": 264,
   "id": "fafd2579",
   "metadata": {},
   "outputs": [
    {
     "name": "stdout",
     "output_type": "stream",
     "text": [
      "<re.Match object; span=(0, 12), match='MP001_time66'>\n"
     ]
    }
   ],
   "source": [
    "print(dom)"
   ]
  },
  {
   "cell_type": "code",
   "execution_count": 281,
   "id": "f2646b91",
   "metadata": {},
   "outputs": [],
   "source": []
  },
  {
   "cell_type": "code",
   "execution_count": 283,
   "id": "eee081d0",
   "metadata": {},
   "outputs": [
    {
     "data": {
      "text/plain": [
       "'fkf'"
      ]
     },
     "execution_count": 283,
     "metadata": {},
     "output_type": "execute_result"
    }
   ],
   "source": [
    "str1"
   ]
  },
  {
   "cell_type": "code",
   "execution_count": 3,
   "id": "930a710d",
   "metadata": {},
   "outputs": [
    {
     "data": {
      "text/plain": [
       "'1300'"
      ]
     },
     "execution_count": 3,
     "metadata": {},
     "output_type": "execute_result"
    }
   ],
   "source": [
    "datat = 'dat1300'\n",
    "datat.split('dat')[-1]"
   ]
  },
  {
   "cell_type": "code",
   "execution_count": 32,
   "id": "944032a3",
   "metadata": {},
   "outputs": [
    {
     "data": {
      "text/plain": [
       "'ciao'"
      ]
     },
     "execution_count": 32,
     "metadata": {},
     "output_type": "execute_result"
    }
   ],
   "source": [
    "stringa = '12345ciao'\n",
    "stringa[5:]"
   ]
  },
  {
   "cell_type": "code",
   "execution_count": 29,
   "id": "ad2e51ad",
   "metadata": {},
   "outputs": [
    {
     "name": "stdout",
     "output_type": "stream",
     "text": [
      "<re.Match object; span=(0, 9), match='data_1300'>\n"
     ]
    }
   ],
   "source": [
    "sprove = 'data_1300'\n",
    "dir_mod3 = re.compile(\"^data_[0-9]+$\")\n",
    "print(dir_mod3.match(sprove))"
   ]
  },
  {
   "cell_type": "code",
   "execution_count": 3,
   "id": "e9f8df28",
   "metadata": {},
   "outputs": [
    {
     "data": {
      "text/plain": [
       "'77e6c1419a030a46c9726e69235e5fe1dc96086d'"
      ]
     },
     "execution_count": 3,
     "metadata": {},
     "output_type": "execute_result"
    }
   ],
   "source": [
    "import hashlib\n",
    "\n",
    "file = open('fitsFile/data_1300/RT.fits', 'rb')\n",
    "hash_object = hashlib.sha1(file.read())\n",
    "pbHash = hash_object.hexdigest()\n",
    "file.close()\n",
    "\n",
    "pbHash"
   ]
  },
  {
   "cell_type": "code",
   "execution_count": 49,
   "id": "fcee362e",
   "metadata": {},
   "outputs": [
    {
     "data": {
      "text/plain": [
       "b'stringaaaaa'"
      ]
     },
     "execution_count": 49,
     "metadata": {},
     "output_type": "execute_result"
    }
   ],
   "source": [
    "prova3 = 'stringaaaaa'\n",
    "bytes(prova3.encode())"
   ]
  },
  {
   "cell_type": "code",
   "execution_count": 76,
   "id": "a8900095",
   "metadata": {},
   "outputs": [
    {
     "data": {
      "text/plain": [
       "'123456'"
      ]
     },
     "execution_count": 76,
     "metadata": {},
     "output_type": "execute_result"
    }
   ],
   "source": [
    "keyy = '123456mckc'\n",
    "keyy[0:6]"
   ]
  },
  {
   "cell_type": "code",
   "execution_count": 8,
   "id": "19ab7dfc",
   "metadata": {},
   "outputs": [
    {
     "name": "stdout",
     "output_type": "stream",
     "text": [
      "9\n",
      "9\n"
     ]
    }
   ],
   "source": [
    "def change(a):\n",
    "    a=10\n",
    "a= 9\n",
    "print(a)\n",
    "change(a=a)\n",
    "print(a)"
   ]
  },
  {
   "cell_type": "code",
   "execution_count": null,
   "id": "1046eebc-a381-4565-a460-2881963687d7",
   "metadata": {},
   "outputs": [],
   "source": []
  },
  {
   "cell_type": "code",
   "execution_count": null,
   "id": "9442fbbb-1d4e-4b28-91b9-7a401bad3390",
   "metadata": {},
   "outputs": [],
   "source": []
  }
 ],
 "metadata": {
  "kernelspec": {
   "display_name": "Python 3",
   "language": "python",
   "name": "python3"
  },
  "language_info": {
   "codemirror_mode": {
    "name": "ipython",
    "version": 3
   },
   "file_extension": ".py",
   "mimetype": "text/x-python",
   "name": "python",
   "nbconvert_exporter": "python",
   "pygments_lexer": "ipython3",
   "version": "3.9.5"
  }
 },
 "nbformat": 4,
 "nbformat_minor": 5
}
