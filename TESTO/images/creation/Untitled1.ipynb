{
 "cells": [
  {
   "cell_type": "code",
   "execution_count": 1,
   "id": "690e321e",
   "metadata": {},
   "outputs": [],
   "source": [
    "from IPython.display import display, Latex\n",
    "import matplotlib\n",
    "import matplotlib.pyplot as plt\n",
    "import numpy as np\n",
    "\n",
    "matplotlib.use(\"pgf\")\n",
    "matplotlib.rcParams.update({\n",
    "    \"pgf.texsystem\": \"pdflatex\",\n",
    "    'font.family': 'serif',\n",
    "    'text.usetex': True,\n",
    "    'pgf.rcfonts': False,\n",
    "})"
   ]
  },
  {
   "cell_type": "code",
   "execution_count": 2,
   "id": "b0fdcd5b",
   "metadata": {},
   "outputs": [],
   "source": [
    "#matrix 1000*1000\n",
    "r = np.arange(0.0000000001, 1, 0.0005)\n",
    "z = np.arange(-2, 2, 0.001)"
   ]
  },
  {
   "cell_type": "code",
   "execution_count": 3,
   "id": "bb201827",
   "metadata": {},
   "outputs": [
    {
     "data": {
      "text/plain": [
       "4000"
      ]
     },
     "execution_count": 3,
     "metadata": {},
     "output_type": "execute_result"
    }
   ],
   "source": [
    "len(z)"
   ]
  },
  {
   "cell_type": "code",
   "execution_count": 4,
   "id": "84a43f9d",
   "metadata": {},
   "outputs": [],
   "source": [
    "h = 0.3*(r/0.5)**(5/4)"
   ]
  },
  {
   "cell_type": "code",
   "execution_count": 5,
   "id": "d3edb583",
   "metadata": {},
   "outputs": [
    {
     "data": {
      "text/plain": [
       "[<matplotlib.lines.Line2D at 0x7fbc84df5760>]"
      ]
     },
     "execution_count": 5,
     "metadata": {},
     "output_type": "execute_result"
    }
   ],
   "source": [
    "plt.plot(r, h)"
   ]
  },
  {
   "cell_type": "code",
   "execution_count": 6,
   "id": "1c6856cd",
   "metadata": {},
   "outputs": [],
   "source": [
    "im = np.array([])\n",
    "for hi in h:\n",
    "    curr = np.exp(-z**2/(2*(hi**2)))\n",
    "    im = np.append(curr, im)\n",
    "    "
   ]
  },
  {
   "cell_type": "code",
   "execution_count": 7,
   "id": "d098dce1",
   "metadata": {},
   "outputs": [],
   "source": [
    "ima = im.reshape(2000, 4000).transpose()[::,::-1]"
   ]
  },
  {
   "cell_type": "code",
   "execution_count": 8,
   "id": "92b8a19a",
   "metadata": {},
   "outputs": [],
   "source": [
    "from matplotlib.pyplot import figure\n",
    "\n",
    "\n",
    "plt.imshow(ima, extent=[0,1,-1,1], cmap='inferno')\n",
    "plt.plot(r,h,'--', color='white', label=\"$ H(r) $\")\n",
    "#plt.plot(r,-h,'--', color='white')\n",
    "plt.colorbar(label='$\\\\rho$ [arb. unit]')\n",
    "plt.xlabel('$r$ [arb. unit]')\n",
    "plt.ylabel('$z$ [arb. unit]')\n",
    "\n",
    "plt.legend(loc='lower left', labelcolor='linecolor', frameon=False)\n",
    "plt.tight_layout()\n",
    "\n",
    "fig = matplotlib.pyplot.gcf()\n",
    "#fig.set_size_inches(1.9685, 3.3,14961)\n",
    "\n",
    "plt.savefig('profile.pgf', dpi=400, bbox_inches='tight')"
   ]
  }
 ],
 "metadata": {
  "kernelspec": {
   "display_name": "Python 3.9.5 64-bit",
   "language": "python",
   "name": "python39564bit80cf730d14af42a98fb2c59e9ca33086"
  },
  "language_info": {
   "codemirror_mode": {
    "name": "ipython",
    "version": 3
   },
   "file_extension": ".py",
   "mimetype": "text/x-python",
   "name": "python",
   "nbconvert_exporter": "python",
   "pygments_lexer": "ipython3",
   "version": "3.9.6"
  }
 },
 "nbformat": 4,
 "nbformat_minor": 5
}
